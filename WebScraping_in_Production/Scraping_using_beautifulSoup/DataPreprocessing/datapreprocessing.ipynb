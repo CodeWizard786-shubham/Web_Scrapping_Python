{
 "cells": [
  {
   "cell_type": "markdown",
   "metadata": {},
   "source": [
    "# Data Preprocessing and Analysis"
   ]
  },
  {
   "cell_type": "markdown",
   "metadata": {},
   "source": [
    "Dataset to process - shiksha_records.csv"
   ]
  },
  {
   "cell_type": "markdown",
   "metadata": {},
   "source": [
    "Implement Logging"
   ]
  },
  {
   "cell_type": "code",
   "execution_count": 167,
   "metadata": {},
   "outputs": [],
   "source": [
    "import logging\n",
    "import sys\n",
    "logging.basicConfig(level=logging.INFO,format=\" %(asctime)s - [%(levelname)s]-%(message)s\" \\\n",
    "                    ,handlers=[logging.FileHandler(\"shiksha_records_preprocessing.log\"),\n",
    "                               logging.StreamHandler(sys.stdout)])\n",
    "\n",
    "logger = logging.getLogger(__name__)"
   ]
  },
  {
   "cell_type": "markdown",
   "metadata": {},
   "source": [
    "# 1. Data Extraction"
   ]
  },
  {
   "cell_type": "code",
   "execution_count": 168,
   "metadata": {},
   "outputs": [],
   "source": [
    "# Import libraries\n",
    "from pyspark.sql import SparkSession\n",
    "from pyspark.sql.functions import *\n",
    "import pandas"
   ]
  },
  {
   "cell_type": "markdown",
   "metadata": {},
   "source": [
    "create Spark object"
   ]
  },
  {
   "cell_type": "code",
   "execution_count": 169,
   "metadata": {},
   "outputs": [
    {
     "name": "stdout",
     "output_type": "stream",
     "text": [
      " 2023-08-28 12:23:54,156 - [INFO]-Spark object Created\n"
     ]
    }
   ],
   "source": [
    "spark = SparkSession.builder.appName(\"Shiksha_Records_Preprocess\").config(\"spark.driver.bindAddress\",\"10.0.2.15\").getOrCreate()\n",
    "logger.info(\"Spark object Created\")"
   ]
  },
  {
   "cell_type": "markdown",
   "metadata": {},
   "source": [
    "Read csv file from Hadoop hdfs\n"
   ]
  },
  {
   "cell_type": "code",
   "execution_count": 170,
   "metadata": {},
   "outputs": [
    {
     "name": "stdout",
     "output_type": "stream",
     "text": [
      "+-----+--------------------+-----------+------------+-----------------+-------+--------------------+---------------+----------------+\n",
      "|Sr No|        College Name|   Location|College Type|Number of courses|Ratings|      Exams Accepted|Total Fee Range| Average Package|\n",
      "+-----+--------------------+-----------+------------+-----------------+-------+--------------------+---------------+----------------+\n",
      "|    1|IIT Bombay - Indi...|     Mumbai|        Govt|      104 Courses|    4.6|GATEJEE MainJEE A...| ₹21.3 K - 10 L|₹8.4 - 55.37 LPA|\n",
      "|    2|IIT Delhi - India...|      Delhi|        Govt|      117 Courses|    4.5|GATEJEE MainJEE A...|  ₹30 K - 8.7 L|  ₹12.5 - 22 LPA|\n",
      "|    3|DTU - Delhi Techn...|      Delhi|        Govt|       78 Courses|    4.3|GATEJEE MainDASA ...|  ₹36 K - 6.4 L|     ₹9 - 13 LPA|\n",
      "|    4|Manipal Institute...|    Manipal|         Pvt|       77 Courses|    4.3|METKarnataka PGCE...|₹2.2 L - 13.5 L| ₹6.2 - 8.88 LPA|\n",
      "|    5|Amrita School of ...| Coimbatore|         Pvt|       32 Courses|    4.1|JEE MainTNEAAEEEG...|  ₹1.8 L - 18 L| ₹4.5 - 6.41 LPA|\n",
      "|    6|KIIT School of En...|Bhubaneswar|         Pvt|       52 Courses|    4.3|KIITEEOJEECUET-PG +1|₹3.8 L - 14.8 L|    ₹4.5 - 8 LPA|\n",
      "|    7|         VIT Vellore|    Vellore|         Pvt|       85 Courses|    4.2|VITMEEVITEEETNEAC...|  ₹1 L - 15.5 L|    ₹3 - 8.1 LPA|\n",
      "|    8|MNNIT Allahabad -...|  Allahabad|        Govt|       53 Courses|    4.1|GATECCMTJEE MainD...|  ₹48 K - 6.9 L|    ₹11 - 12 LPA|\n",
      "|    9|Birla Institute o...|     Ranchi|         Pvt|       62 Courses|    3.9|GATEJEE MainGPATI...|₹2.5 L - 17.3 L| ₹3.18 - 9.9 LPA|\n",
      "|   10|KIIT - Kalinga In...|Bhubaneswar|         Pvt|       28 Courses|    4.1|KIITEEOJEEGATENAT...|  ₹2 K - 15.9 L|   ₹6 - 10.2 LPA|\n",
      "+-----+--------------------+-----------+------------+-----------------+-------+--------------------+---------------+----------------+\n",
      "only showing top 10 rows\n",
      "\n"
     ]
    }
   ],
   "source": [
    "try:\n",
    "    df = spark.read.csv(\"hdfs://localhost:9000/web_scraped_data/shiksha_records.csv\",inferSchema=True,header=True)\n",
    "    df.show(10)\n",
    "except Exception as e:\n",
    "    logger.error(\"csv from hadoop succssfully loaded\")"
   ]
  },
  {
   "cell_type": "markdown",
   "metadata": {},
   "source": [
    "# 2. Data Exploration"
   ]
  },
  {
   "cell_type": "code",
   "execution_count": 171,
   "metadata": {},
   "outputs": [
    {
     "name": "stdout",
     "output_type": "stream",
     "text": [
      "Total Rows count: 10800\n",
      "Total Columns count: 9\n"
     ]
    }
   ],
   "source": [
    "# getting rows and columns count\n",
    "df_rows_count = df.count()\n",
    "df_columns_count = len(df.columns)\n",
    "print(f\"Total Rows count: {df_rows_count}\")\n",
    "print(f\"Total Columns count: {df_columns_count}\")"
   ]
  },
  {
   "cell_type": "code",
   "execution_count": 172,
   "metadata": {},
   "outputs": [
    {
     "name": "stdout",
     "output_type": "stream",
     "text": [
      "root\n",
      " |-- Sr No: integer (nullable = true)\n",
      " |-- College Name: string (nullable = true)\n",
      " |-- Location: string (nullable = true)\n",
      " |-- College Type: string (nullable = true)\n",
      " |-- Number of courses: string (nullable = true)\n",
      " |-- Ratings: string (nullable = true)\n",
      " |-- Exams Accepted: string (nullable = true)\n",
      " |-- Total Fee Range: string (nullable = true)\n",
      " |-- Average Package: string (nullable = true)\n",
      "\n"
     ]
    }
   ],
   "source": [
    "#Display dataframe structure\n",
    "df.printSchema()"
   ]
  },
  {
   "cell_type": "code",
   "execution_count": 173,
   "metadata": {},
   "outputs": [
    {
     "name": "stderr",
     "output_type": "stream",
     "text": [
      "[Stage 194:>                                                        (0 + 1) / 1]\r"
     ]
    },
    {
     "name": "stdout",
     "output_type": "stream",
     "text": [
      "+-------+-----------------+--------------------+--------+------------+-----------------+------------------+--------------+---------------+------------------+\n",
      "|summary|            Sr No|        College Name|Location|College Type|Number of courses|           Ratings|Exams Accepted|Total Fee Range|   Average Package|\n",
      "+-------+-----------------+--------------------+--------+------------+-----------------+------------------+--------------+---------------+------------------+\n",
      "|  count|            10800|               10800|   10800|        8306|            10800|             10800|         10800|          10800|              6494|\n",
      "|   mean|           5400.5|                null|    null|        null|             null|3.6628084280565463|          null|           null|3.4426192278576777|\n",
      "| stddev|3117.835787850284|                null|    null|        null|             null|0.8938823071238124|          null|           null|0.9433969911930686|\n",
      "|    min|                1|9.9 School of Com...|  Adipur|        Govt|         1 Course|                +1|          ACET|          – / –|               1.0|\n",
      "|    max|            10800|iLEAD Institute o...|Yavatmal|         Pvt|       99 Courses|          ₹5.5 LPA|         – / –|   ₹990 - 1.4 L|          ₹9.9 LPA|\n",
      "+-------+-----------------+--------------------+--------+------------+-----------------+------------------+--------------+---------------+------------------+\n",
      "\n"
     ]
    },
    {
     "name": "stderr",
     "output_type": "stream",
     "text": [
      "                                                                                \r"
     ]
    }
   ],
   "source": [
    "df.describe().show()"
   ]
  },
  {
   "cell_type": "markdown",
   "metadata": {},
   "source": [
    "Check Null Values"
   ]
  },
  {
   "cell_type": "code",
   "execution_count": 174,
   "metadata": {},
   "outputs": [
    {
     "name": "stdout",
     "output_type": "stream",
     "text": [
      "+-----+------------+--------+------------+-----------------+-------+--------------+---------------+---------------+\n",
      "|Sr No|College Name|Location|College Type|Number of courses|Ratings|Exams Accepted|Total Fee Range|Average Package|\n",
      "+-----+------------+--------+------------+-----------------+-------+--------------+---------------+---------------+\n",
      "|    0|           0|       0|        2494|                0|      0|             0|              0|           4306|\n",
      "+-----+------------+--------+------------+-----------------+-------+--------------+---------------+---------------+\n",
      "\n"
     ]
    }
   ],
   "source": [
    "# Missing values count in all columns\n",
    "missing_counts = df.select(*[(sum(col(c).isNull().cast(\"int\"))).alias(c) for c in df.columns])\n",
    "missing_counts.show()"
   ]
  },
  {
   "cell_type": "markdown",
   "metadata": {},
   "source": [
    "Removing dublicate values if any"
   ]
  },
  {
   "cell_type": "code",
   "execution_count": 175,
   "metadata": {},
   "outputs": [],
   "source": [
    "# df = df.dropDuplicates(subset=[\"College Name\"])"
   ]
  },
  {
   "cell_type": "code",
   "execution_count": 176,
   "metadata": {},
   "outputs": [
    {
     "name": "stdout",
     "output_type": "stream",
     "text": [
      "+-----+--------------------+---------------+------------+-----------------+-------+--------------------+----------------+------------------+\n",
      "|Sr No|        College Name|       Location|College Type|Number of courses|Ratings|      Exams Accepted| Total Fee Range|   Average Package|\n",
      "+-----+--------------------+---------------+------------+-----------------+-------+--------------------+----------------+------------------+\n",
      "|    1|IIT Bombay - Indi...|         Mumbai|        Govt|      104 Courses|    4.6|GATEJEE MainJEE A...|  ₹21.3 K - 10 L|  ₹8.4 - 55.37 LPA|\n",
      "|    2|IIT Delhi - India...|          Delhi|        Govt|      117 Courses|    4.5|GATEJEE MainJEE A...|   ₹30 K - 8.7 L|    ₹12.5 - 22 LPA|\n",
      "|    3|DTU - Delhi Techn...|          Delhi|        Govt|       78 Courses|    4.3|GATEJEE MainDASA ...|   ₹36 K - 6.4 L|       ₹9 - 13 LPA|\n",
      "|    4|Manipal Institute...|        Manipal|         Pvt|       77 Courses|    4.3|METKarnataka PGCE...| ₹2.2 L - 13.5 L|   ₹6.2 - 8.88 LPA|\n",
      "|    5|Amrita School of ...|     Coimbatore|         Pvt|       32 Courses|    4.1|JEE MainTNEAAEEEG...|   ₹1.8 L - 18 L|   ₹4.5 - 6.41 LPA|\n",
      "|    6|KIIT School of En...|    Bhubaneswar|         Pvt|       52 Courses|    4.3|KIITEEOJEECUET-PG +1| ₹3.8 L - 14.8 L|      ₹4.5 - 8 LPA|\n",
      "|    7|         VIT Vellore|        Vellore|         Pvt|       85 Courses|    4.2|VITMEEVITEEETNEAC...|   ₹1 L - 15.5 L|      ₹3 - 8.1 LPA|\n",
      "|    8|MNNIT Allahabad -...|      Allahabad|        Govt|       53 Courses|    4.1|GATECCMTJEE MainD...|   ₹48 K - 6.9 L|      ₹11 - 12 LPA|\n",
      "|    9|Birla Institute o...|         Ranchi|         Pvt|       62 Courses|    3.9|GATEJEE MainGPATI...| ₹2.5 L - 17.3 L|   ₹3.18 - 9.9 LPA|\n",
      "|   10|KIIT - Kalinga In...|    Bhubaneswar|         Pvt|       28 Courses|    4.1|KIITEEOJEEGATENAT...|   ₹2 K - 15.9 L|     ₹6 - 10.2 LPA|\n",
      "|   11|IIIT Delhi - Indr...|          Delhi|        Govt|       26 Courses|    4.5|GATEJEE MainJAC D...|     ₹2 L - 18 L|   ₹15.41 - 17 LPA|\n",
      "|   12|International Ins...|      Hyderabad|         Pvt|       32 Courses|    4.3|IIITH PGEEIIITH U...|   ₹1.2 L - 18 L|₹21.95 - 30.36 LPA|\n",
      "|   13|IIT Madras - Indi...|        Chennai|        Govt|       95 Courses|    4.6|GATEJEE MainJEE A...|    ₹10 K - 10 L|  ₹1.5 - 18.96 LPA|\n",
      "|   14|Amrita School of ...|     Amritapuri|         Pvt|       20 Courses|    4.0| JEE MainAEEEGATE +1|   ₹1.5 L - 17 L|   ₹4.5 - 6.41 LPA|\n",
      "|   15|Manipal Academy o...|        Manipal|         Pvt|       76 Courses|    4.1|METCBSE 12thKarna...|    ₹10 K - 18 L|  ₹3.5 - 11.68 LPA|\n",
      "|   16|JNTUH College of ...|      Hyderabad|        Govt|       65 Courses|    4.0|TS EAMCETGATETS P...|     ₹54 K - 5 L|          ₹5.5 LPA|\n",
      "|   17|IIT Kharagpur - I...|      Kharagpur|        Govt|      177 Courses|    4.5|JEE AdvancedJEE M...|    ₹20 K - 10 L|  ₹1.5 - 18.75 LPA|\n",
      "|   18|NIT Trichy - Nati...|Tiruchirappalli|        Govt|       52 Courses|    4.4|GATECCMTJEE MainD...|   ₹30 K - 6.3 L|  ₹5.5 - 12.37 LPA|\n",
      "|   19|BITS Pilani - Bir...|         Pilani|         Pvt|       38 Courses|    4.4|BITS HDBITSATGATE...|₹78.6 K - 19.9 L|  ₹6.05 - 18.2 LPA|\n",
      "|   20|IIT Kanpur - Indi...|         Kanpur|        Govt|      102 Courses|    4.7|GATECOAPJEE MainJ...|     ₹12 K - 8 L|   ₹15 - 22.07 LPA|\n",
      "+-----+--------------------+---------------+------------+-----------------+-------+--------------------+----------------+------------------+\n",
      "only showing top 20 rows\n",
      "\n"
     ]
    }
   ],
   "source": [
    "df.show()"
   ]
  },
  {
   "cell_type": "code",
   "execution_count": 177,
   "metadata": {},
   "outputs": [
    {
     "name": "stdout",
     "output_type": "stream",
     "text": [
      "root\n",
      " |-- Sr No: integer (nullable = true)\n",
      " |-- College Name: string (nullable = true)\n",
      " |-- Location: string (nullable = true)\n",
      " |-- College Type: string (nullable = true)\n",
      " |-- Number of courses: string (nullable = true)\n",
      " |-- Ratings: string (nullable = true)\n",
      " |-- Exams Accepted: string (nullable = true)\n",
      " |-- Total Fee Range: string (nullable = true)\n",
      " |-- Average Package: string (nullable = true)\n",
      "\n"
     ]
    }
   ],
   "source": [
    "df.printSchema()"
   ]
  },
  {
   "cell_type": "markdown",
   "metadata": {},
   "source": [
    "# 4.Data Transfromations"
   ]
  },
  {
   "cell_type": "code",
   "execution_count": 178,
   "metadata": {},
   "outputs": [],
   "source": [
    "df = df.withColumnRenamed(\"Sr No\", \"sr_no\") \\\n",
    "       .withColumnRenamed(\"College Name\", \"college_name\") \\\n",
    "       .withColumnRenamed(\"Location\", \"location\") \\\n",
    "       .withColumnRenamed(\"College Type\", \"college_type\") \\\n",
    "       .withColumnRenamed(\"Number of courses\", \"number_of_courses\") \\\n",
    "       .withColumnRenamed(\"Ratings\", \"ratings\") \\\n",
    "       .withColumnRenamed(\"Exams Accepted\", \"exams_accepted\") \\\n",
    "       .withColumnRenamed(\"Total Fee Range\", \"total_fee_range\") \\\n",
    "       .withColumnRenamed(\"Average Package\", \"average_package\")\n"
   ]
  },
  {
   "cell_type": "code",
   "execution_count": 179,
   "metadata": {},
   "outputs": [
    {
     "name": "stdout",
     "output_type": "stream",
     "text": [
      "+-----+--------------------+---------------+------------+-----------------+-------+--------------------+----------------+------------------+\n",
      "|sr_no|        college_name|       location|college_type|number_of_courses|ratings|      exams_accepted| total_fee_range|   average_package|\n",
      "+-----+--------------------+---------------+------------+-----------------+-------+--------------------+----------------+------------------+\n",
      "|    1|IIT Bombay - Indi...|         Mumbai|        Govt|      104 Courses|    4.6|GATEJEE MainJEE A...|  ₹21.3 K - 10 L|  ₹8.4 - 55.37 LPA|\n",
      "|    2|IIT Delhi - India...|          Delhi|        Govt|      117 Courses|    4.5|GATEJEE MainJEE A...|   ₹30 K - 8.7 L|    ₹12.5 - 22 LPA|\n",
      "|    3|DTU - Delhi Techn...|          Delhi|        Govt|       78 Courses|    4.3|GATEJEE MainDASA ...|   ₹36 K - 6.4 L|       ₹9 - 13 LPA|\n",
      "|    4|Manipal Institute...|        Manipal|         Pvt|       77 Courses|    4.3|METKarnataka PGCE...| ₹2.2 L - 13.5 L|   ₹6.2 - 8.88 LPA|\n",
      "|    5|Amrita School of ...|     Coimbatore|         Pvt|       32 Courses|    4.1|JEE MainTNEAAEEEG...|   ₹1.8 L - 18 L|   ₹4.5 - 6.41 LPA|\n",
      "|    6|KIIT School of En...|    Bhubaneswar|         Pvt|       52 Courses|    4.3|KIITEEOJEECUET-PG +1| ₹3.8 L - 14.8 L|      ₹4.5 - 8 LPA|\n",
      "|    7|         VIT Vellore|        Vellore|         Pvt|       85 Courses|    4.2|VITMEEVITEEETNEAC...|   ₹1 L - 15.5 L|      ₹3 - 8.1 LPA|\n",
      "|    8|MNNIT Allahabad -...|      Allahabad|        Govt|       53 Courses|    4.1|GATECCMTJEE MainD...|   ₹48 K - 6.9 L|      ₹11 - 12 LPA|\n",
      "|    9|Birla Institute o...|         Ranchi|         Pvt|       62 Courses|    3.9|GATEJEE MainGPATI...| ₹2.5 L - 17.3 L|   ₹3.18 - 9.9 LPA|\n",
      "|   10|KIIT - Kalinga In...|    Bhubaneswar|         Pvt|       28 Courses|    4.1|KIITEEOJEEGATENAT...|   ₹2 K - 15.9 L|     ₹6 - 10.2 LPA|\n",
      "|   11|IIIT Delhi - Indr...|          Delhi|        Govt|       26 Courses|    4.5|GATEJEE MainJAC D...|     ₹2 L - 18 L|   ₹15.41 - 17 LPA|\n",
      "|   12|International Ins...|      Hyderabad|         Pvt|       32 Courses|    4.3|IIITH PGEEIIITH U...|   ₹1.2 L - 18 L|₹21.95 - 30.36 LPA|\n",
      "|   13|IIT Madras - Indi...|        Chennai|        Govt|       95 Courses|    4.6|GATEJEE MainJEE A...|    ₹10 K - 10 L|  ₹1.5 - 18.96 LPA|\n",
      "|   14|Amrita School of ...|     Amritapuri|         Pvt|       20 Courses|    4.0| JEE MainAEEEGATE +1|   ₹1.5 L - 17 L|   ₹4.5 - 6.41 LPA|\n",
      "|   15|Manipal Academy o...|        Manipal|         Pvt|       76 Courses|    4.1|METCBSE 12thKarna...|    ₹10 K - 18 L|  ₹3.5 - 11.68 LPA|\n",
      "|   16|JNTUH College of ...|      Hyderabad|        Govt|       65 Courses|    4.0|TS EAMCETGATETS P...|     ₹54 K - 5 L|          ₹5.5 LPA|\n",
      "|   17|IIT Kharagpur - I...|      Kharagpur|        Govt|      177 Courses|    4.5|JEE AdvancedJEE M...|    ₹20 K - 10 L|  ₹1.5 - 18.75 LPA|\n",
      "|   18|NIT Trichy - Nati...|Tiruchirappalli|        Govt|       52 Courses|    4.4|GATECCMTJEE MainD...|   ₹30 K - 6.3 L|  ₹5.5 - 12.37 LPA|\n",
      "|   19|BITS Pilani - Bir...|         Pilani|         Pvt|       38 Courses|    4.4|BITS HDBITSATGATE...|₹78.6 K - 19.9 L|  ₹6.05 - 18.2 LPA|\n",
      "|   20|IIT Kanpur - Indi...|         Kanpur|        Govt|      102 Courses|    4.7|GATECOAPJEE MainJ...|     ₹12 K - 8 L|   ₹15 - 22.07 LPA|\n",
      "+-----+--------------------+---------------+------------+-----------------+-------+--------------------+----------------+------------------+\n",
      "only showing top 20 rows\n",
      "\n"
     ]
    }
   ],
   "source": [
    "df.show()"
   ]
  },
  {
   "cell_type": "code",
   "execution_count": 180,
   "metadata": {},
   "outputs": [
    {
     "name": "stdout",
     "output_type": "stream",
     "text": [
      "+-----+--------------------+---------------+------------+-----------------+-------+--------------------+----------------+------------------+\n",
      "|sr_no|        college_name|       location|college_type|number_of_courses|ratings|      exams_accepted| total_fee_range|   average_package|\n",
      "+-----+--------------------+---------------+------------+-----------------+-------+--------------------+----------------+------------------+\n",
      "|    1|IIT Bombay - Indi...|         Mumbai|        Govt|              104|    4.6|GATEJEE MainJEE A...|  ₹21.3 K - 10 L|  ₹8.4 - 55.37 LPA|\n",
      "|    2|IIT Delhi - India...|          Delhi|        Govt|              117|    4.5|GATEJEE MainJEE A...|   ₹30 K - 8.7 L|    ₹12.5 - 22 LPA|\n",
      "|    3|DTU - Delhi Techn...|          Delhi|        Govt|               78|    4.3|GATEJEE MainDASA ...|   ₹36 K - 6.4 L|       ₹9 - 13 LPA|\n",
      "|    4|Manipal Institute...|        Manipal|         Pvt|               77|    4.3|METKarnataka PGCE...| ₹2.2 L - 13.5 L|   ₹6.2 - 8.88 LPA|\n",
      "|    5|Amrita School of ...|     Coimbatore|         Pvt|               32|    4.1|JEE MainTNEAAEEEG...|   ₹1.8 L - 18 L|   ₹4.5 - 6.41 LPA|\n",
      "|    6|KIIT School of En...|    Bhubaneswar|         Pvt|               52|    4.3|KIITEEOJEECUET-PG +1| ₹3.8 L - 14.8 L|      ₹4.5 - 8 LPA|\n",
      "|    7|         VIT Vellore|        Vellore|         Pvt|               85|    4.2|VITMEEVITEEETNEAC...|   ₹1 L - 15.5 L|      ₹3 - 8.1 LPA|\n",
      "|    8|MNNIT Allahabad -...|      Allahabad|        Govt|               53|    4.1|GATECCMTJEE MainD...|   ₹48 K - 6.9 L|      ₹11 - 12 LPA|\n",
      "|    9|Birla Institute o...|         Ranchi|         Pvt|               62|    3.9|GATEJEE MainGPATI...| ₹2.5 L - 17.3 L|   ₹3.18 - 9.9 LPA|\n",
      "|   10|KIIT - Kalinga In...|    Bhubaneswar|         Pvt|               28|    4.1|KIITEEOJEEGATENAT...|   ₹2 K - 15.9 L|     ₹6 - 10.2 LPA|\n",
      "|   11|IIIT Delhi - Indr...|          Delhi|        Govt|               26|    4.5|GATEJEE MainJAC D...|     ₹2 L - 18 L|   ₹15.41 - 17 LPA|\n",
      "|   12|International Ins...|      Hyderabad|         Pvt|               32|    4.3|IIITH PGEEIIITH U...|   ₹1.2 L - 18 L|₹21.95 - 30.36 LPA|\n",
      "|   13|IIT Madras - Indi...|        Chennai|        Govt|               95|    4.6|GATEJEE MainJEE A...|    ₹10 K - 10 L|  ₹1.5 - 18.96 LPA|\n",
      "|   14|Amrita School of ...|     Amritapuri|         Pvt|               20|    4.0| JEE MainAEEEGATE +1|   ₹1.5 L - 17 L|   ₹4.5 - 6.41 LPA|\n",
      "|   15|Manipal Academy o...|        Manipal|         Pvt|               76|    4.1|METCBSE 12thKarna...|    ₹10 K - 18 L|  ₹3.5 - 11.68 LPA|\n",
      "|   16|JNTUH College of ...|      Hyderabad|        Govt|               65|    4.0|TS EAMCETGATETS P...|     ₹54 K - 5 L|          ₹5.5 LPA|\n",
      "|   17|IIT Kharagpur - I...|      Kharagpur|        Govt|              177|    4.5|JEE AdvancedJEE M...|    ₹20 K - 10 L|  ₹1.5 - 18.75 LPA|\n",
      "|   18|NIT Trichy - Nati...|Tiruchirappalli|        Govt|               52|    4.4|GATECCMTJEE MainD...|   ₹30 K - 6.3 L|  ₹5.5 - 12.37 LPA|\n",
      "|   19|BITS Pilani - Bir...|         Pilani|         Pvt|               38|    4.4|BITS HDBITSATGATE...|₹78.6 K - 19.9 L|  ₹6.05 - 18.2 LPA|\n",
      "|   20|IIT Kanpur - Indi...|         Kanpur|        Govt|              102|    4.7|GATECOAPJEE MainJ...|     ₹12 K - 8 L|   ₹15 - 22.07 LPA|\n",
      "+-----+--------------------+---------------+------------+-----------------+-------+--------------------+----------------+------------------+\n",
      "only showing top 20 rows\n",
      "\n"
     ]
    }
   ],
   "source": [
    "df = df.withColumn(\"number_of_courses\",split(col(\"number_of_courses\"), \" \").getItem(0))\n",
    "df = df.withColumn(\"number_of_courses\",col(\"number_of_courses\").cast(\"int\"))\n",
    "df = df.withColumn(\"ratings\",col(\"ratings\").cast(\"float\"))\n",
    "df.show()"
   ]
  },
  {
   "cell_type": "code",
   "execution_count": 181,
   "metadata": {},
   "outputs": [
    {
     "name": "stdout",
     "output_type": "stream",
     "text": [
      "root\n",
      " |-- sr_no: integer (nullable = true)\n",
      " |-- college_name: string (nullable = true)\n",
      " |-- location: string (nullable = true)\n",
      " |-- college_type: string (nullable = true)\n",
      " |-- number_of_courses: integer (nullable = true)\n",
      " |-- ratings: float (nullable = true)\n",
      " |-- exams_accepted: string (nullable = true)\n",
      " |-- total_fee_range: string (nullable = true)\n",
      " |-- average_package: string (nullable = true)\n",
      "\n"
     ]
    }
   ],
   "source": [
    "df.printSchema()"
   ]
  },
  {
   "cell_type": "markdown",
   "metadata": {},
   "source": [
    "# 5. Data Analysis"
   ]
  },
  {
   "cell_type": "code",
   "execution_count": 182,
   "metadata": {},
   "outputs": [],
   "source": [
    "import matplotlib.pyplot as plt"
   ]
  },
  {
   "cell_type": "code",
   "execution_count": 183,
   "metadata": {},
   "outputs": [
    {
     "name": "stderr",
     "output_type": "stream",
     "text": [
      "                                                                                \r"
     ]
    }
   ],
   "source": [
    "plot_df = df.toPandas()\n",
    "plot_df.set_index(plot_df.columns[0], inplace=True)"
   ]
  },
  {
   "cell_type": "code",
   "execution_count": 184,
   "metadata": {},
   "outputs": [
    {
     "data": {
      "text/html": [
       "<div>\n",
       "<style scoped>\n",
       "    .dataframe tbody tr th:only-of-type {\n",
       "        vertical-align: middle;\n",
       "    }\n",
       "\n",
       "    .dataframe tbody tr th {\n",
       "        vertical-align: top;\n",
       "    }\n",
       "\n",
       "    .dataframe thead th {\n",
       "        text-align: right;\n",
       "    }\n",
       "</style>\n",
       "<table border=\"1\" class=\"dataframe\">\n",
       "  <thead>\n",
       "    <tr style=\"text-align: right;\">\n",
       "      <th></th>\n",
       "      <th>college_name</th>\n",
       "      <th>location</th>\n",
       "      <th>college_type</th>\n",
       "      <th>number_of_courses</th>\n",
       "      <th>ratings</th>\n",
       "      <th>exams_accepted</th>\n",
       "      <th>total_fee_range</th>\n",
       "      <th>average_package</th>\n",
       "    </tr>\n",
       "    <tr>\n",
       "      <th>sr_no</th>\n",
       "      <th></th>\n",
       "      <th></th>\n",
       "      <th></th>\n",
       "      <th></th>\n",
       "      <th></th>\n",
       "      <th></th>\n",
       "      <th></th>\n",
       "      <th></th>\n",
       "    </tr>\n",
       "  </thead>\n",
       "  <tbody>\n",
       "    <tr>\n",
       "      <th>1</th>\n",
       "      <td>IIT Bombay - Indian Institute of Technology</td>\n",
       "      <td>Mumbai</td>\n",
       "      <td>Govt</td>\n",
       "      <td>104</td>\n",
       "      <td>4.6</td>\n",
       "      <td>GATEJEE MainJEE AdvancedCOAPIIT JAMCEEDUGC NET...</td>\n",
       "      <td>₹21.3 K - 10 L</td>\n",
       "      <td>₹8.4 - 55.37 LPA</td>\n",
       "    </tr>\n",
       "    <tr>\n",
       "      <th>2</th>\n",
       "      <td>IIT Delhi - Indian Institute of Technology</td>\n",
       "      <td>Delhi</td>\n",
       "      <td>Govt</td>\n",
       "      <td>117</td>\n",
       "      <td>4.5</td>\n",
       "      <td>GATEJEE MainJEE AdvancedIIT JAMCEEDUCEEDUGC NE...</td>\n",
       "      <td>₹30 K - 8.7 L</td>\n",
       "      <td>₹12.5 - 22 LPA</td>\n",
       "    </tr>\n",
       "    <tr>\n",
       "      <th>3</th>\n",
       "      <td>DTU - Delhi Technological University</td>\n",
       "      <td>Delhi</td>\n",
       "      <td>Govt</td>\n",
       "      <td>78</td>\n",
       "      <td>4.3</td>\n",
       "      <td>GATEJEE MainDASA UGJAC DelhiCUET-PGCBSE 12thIS...</td>\n",
       "      <td>₹36 K - 6.4 L</td>\n",
       "      <td>₹9 - 13 LPA</td>\n",
       "    </tr>\n",
       "    <tr>\n",
       "      <th>4</th>\n",
       "      <td>Manipal Institute of Technology</td>\n",
       "      <td>Manipal</td>\n",
       "      <td>Pvt</td>\n",
       "      <td>77</td>\n",
       "      <td>4.3</td>\n",
       "      <td>METKarnataka PGCETGATEKCETDASA UGKMATCBSE 12th...</td>\n",
       "      <td>₹2.2 L - 13.5 L</td>\n",
       "      <td>₹6.2 - 8.88 LPA</td>\n",
       "    </tr>\n",
       "    <tr>\n",
       "      <th>5</th>\n",
       "      <td>Amrita School of Engineering, Amrita Vishwa Vi...</td>\n",
       "      <td>Coimbatore</td>\n",
       "      <td>Pvt</td>\n",
       "      <td>32</td>\n",
       "      <td>4.1</td>\n",
       "      <td>JEE MainTNEAAEEEGATE +2</td>\n",
       "      <td>₹1.8 L - 18 L</td>\n",
       "      <td>₹4.5 - 6.41 LPA</td>\n",
       "    </tr>\n",
       "    <tr>\n",
       "      <th>...</th>\n",
       "      <td>...</td>\n",
       "      <td>...</td>\n",
       "      <td>...</td>\n",
       "      <td>...</td>\n",
       "      <td>...</td>\n",
       "      <td>...</td>\n",
       "      <td>...</td>\n",
       "      <td>...</td>\n",
       "    </tr>\n",
       "    <tr>\n",
       "      <th>10796</th>\n",
       "      <td>School of Nursing, Command Hospital</td>\n",
       "      <td>Chandigarh</td>\n",
       "      <td>None</td>\n",
       "      <td>2</td>\n",
       "      <td>NaN</td>\n",
       "      <td>CBSE 12thPSEB 12th</td>\n",
       "      <td>– / –</td>\n",
       "      <td>None</td>\n",
       "    </tr>\n",
       "    <tr>\n",
       "      <th>10797</th>\n",
       "      <td>Sahajpath College of Pharmacy</td>\n",
       "      <td>West Bengal - Other</td>\n",
       "      <td>None</td>\n",
       "      <td>3</td>\n",
       "      <td>2.0</td>\n",
       "      <td>WBJEEJEE MainWBJEE JELET +2</td>\n",
       "      <td>₹3 L - 6.2 L</td>\n",
       "      <td>None</td>\n",
       "    </tr>\n",
       "    <tr>\n",
       "      <th>10798</th>\n",
       "      <td>Maya Academy of Advanced Cinematics, Kolhapur</td>\n",
       "      <td>Kolhapur</td>\n",
       "      <td>Pvt</td>\n",
       "      <td>19</td>\n",
       "      <td>NaN</td>\n",
       "      <td>– / –</td>\n",
       "      <td>– / –</td>\n",
       "      <td>None</td>\n",
       "    </tr>\n",
       "    <tr>\n",
       "      <th>10799</th>\n",
       "      <td>MAAC, Netaji Subhash Place</td>\n",
       "      <td>Delhi</td>\n",
       "      <td>Pvt</td>\n",
       "      <td>28</td>\n",
       "      <td>4.1</td>\n",
       "      <td>CBSE 12th</td>\n",
       "      <td>– / –</td>\n",
       "      <td>5.0</td>\n",
       "    </tr>\n",
       "    <tr>\n",
       "      <th>10800</th>\n",
       "      <td>JD Institute of Fashion Technology, Karkardoom...</td>\n",
       "      <td>Delhi</td>\n",
       "      <td>None</td>\n",
       "      <td>11</td>\n",
       "      <td>NaN</td>\n",
       "      <td>CBSE 12th</td>\n",
       "      <td>– / –</td>\n",
       "      <td>NULL</td>\n",
       "    </tr>\n",
       "  </tbody>\n",
       "</table>\n",
       "<p>10800 rows × 8 columns</p>\n",
       "</div>"
      ],
      "text/plain": [
       "                                            college_name             location  \\\n",
       "sr_no                                                                           \n",
       "1            IIT Bombay - Indian Institute of Technology               Mumbai   \n",
       "2             IIT Delhi - Indian Institute of Technology                Delhi   \n",
       "3                   DTU - Delhi Technological University                Delhi   \n",
       "4                        Manipal Institute of Technology              Manipal   \n",
       "5      Amrita School of Engineering, Amrita Vishwa Vi...           Coimbatore   \n",
       "...                                                  ...                  ...   \n",
       "10796                School of Nursing, Command Hospital           Chandigarh   \n",
       "10797                      Sahajpath College of Pharmacy  West Bengal - Other   \n",
       "10798      Maya Academy of Advanced Cinematics, Kolhapur             Kolhapur   \n",
       "10799                         MAAC, Netaji Subhash Place                Delhi   \n",
       "10800  JD Institute of Fashion Technology, Karkardoom...                Delhi   \n",
       "\n",
       "      college_type  number_of_courses  ratings  \\\n",
       "sr_no                                            \n",
       "1             Govt                104      4.6   \n",
       "2             Govt                117      4.5   \n",
       "3             Govt                 78      4.3   \n",
       "4              Pvt                 77      4.3   \n",
       "5              Pvt                 32      4.1   \n",
       "...            ...                ...      ...   \n",
       "10796         None                  2      NaN   \n",
       "10797         None                  3      2.0   \n",
       "10798          Pvt                 19      NaN   \n",
       "10799          Pvt                 28      4.1   \n",
       "10800         None                 11      NaN   \n",
       "\n",
       "                                          exams_accepted  total_fee_range  \\\n",
       "sr_no                                                                       \n",
       "1      GATEJEE MainJEE AdvancedCOAPIIT JAMCEEDUGC NET...   ₹21.3 K - 10 L   \n",
       "2      GATEJEE MainJEE AdvancedIIT JAMCEEDUCEEDUGC NE...    ₹30 K - 8.7 L   \n",
       "3      GATEJEE MainDASA UGJAC DelhiCUET-PGCBSE 12thIS...    ₹36 K - 6.4 L   \n",
       "4      METKarnataka PGCETGATEKCETDASA UGKMATCBSE 12th...  ₹2.2 L - 13.5 L   \n",
       "5                                JEE MainTNEAAEEEGATE +2    ₹1.8 L - 18 L   \n",
       "...                                                  ...              ...   \n",
       "10796                                 CBSE 12thPSEB 12th            – / –   \n",
       "10797                        WBJEEJEE MainWBJEE JELET +2     ₹3 L - 6.2 L   \n",
       "10798                                              – / –            – / –   \n",
       "10799                                          CBSE 12th            – / –   \n",
       "10800                                          CBSE 12th            – / –   \n",
       "\n",
       "        average_package  \n",
       "sr_no                    \n",
       "1      ₹8.4 - 55.37 LPA  \n",
       "2        ₹12.5 - 22 LPA  \n",
       "3           ₹9 - 13 LPA  \n",
       "4       ₹6.2 - 8.88 LPA  \n",
       "5       ₹4.5 - 6.41 LPA  \n",
       "...                 ...  \n",
       "10796              None  \n",
       "10797              None  \n",
       "10798              None  \n",
       "10799               5.0  \n",
       "10800              NULL  \n",
       "\n",
       "[10800 rows x 8 columns]"
      ]
     },
     "execution_count": 184,
     "metadata": {},
     "output_type": "execute_result"
    }
   ],
   "source": [
    "plot_df"
   ]
  },
  {
   "cell_type": "code",
   "execution_count": 185,
   "metadata": {},
   "outputs": [],
   "source": [
    "ratings_vs_type_df = plot_df.dropna(subset=[\"ratings\"])"
   ]
  },
  {
   "cell_type": "code",
   "execution_count": 186,
   "metadata": {},
   "outputs": [
    {
     "data": {
      "text/html": [
       "<div>\n",
       "<style scoped>\n",
       "    .dataframe tbody tr th:only-of-type {\n",
       "        vertical-align: middle;\n",
       "    }\n",
       "\n",
       "    .dataframe tbody tr th {\n",
       "        vertical-align: top;\n",
       "    }\n",
       "\n",
       "    .dataframe thead th {\n",
       "        text-align: right;\n",
       "    }\n",
       "</style>\n",
       "<table border=\"1\" class=\"dataframe\">\n",
       "  <thead>\n",
       "    <tr style=\"text-align: right;\">\n",
       "      <th></th>\n",
       "      <th>college_name</th>\n",
       "      <th>location</th>\n",
       "      <th>college_type</th>\n",
       "      <th>number_of_courses</th>\n",
       "      <th>ratings</th>\n",
       "      <th>exams_accepted</th>\n",
       "      <th>total_fee_range</th>\n",
       "      <th>average_package</th>\n",
       "    </tr>\n",
       "    <tr>\n",
       "      <th>sr_no</th>\n",
       "      <th></th>\n",
       "      <th></th>\n",
       "      <th></th>\n",
       "      <th></th>\n",
       "      <th></th>\n",
       "      <th></th>\n",
       "      <th></th>\n",
       "      <th></th>\n",
       "    </tr>\n",
       "  </thead>\n",
       "  <tbody>\n",
       "    <tr>\n",
       "      <th>1</th>\n",
       "      <td>IIT Bombay - Indian Institute of Technology</td>\n",
       "      <td>Mumbai</td>\n",
       "      <td>Govt</td>\n",
       "      <td>104</td>\n",
       "      <td>4.6</td>\n",
       "      <td>GATEJEE MainJEE AdvancedCOAPIIT JAMCEEDUGC NET...</td>\n",
       "      <td>₹21.3 K - 10 L</td>\n",
       "      <td>₹8.4 - 55.37 LPA</td>\n",
       "    </tr>\n",
       "    <tr>\n",
       "      <th>2</th>\n",
       "      <td>IIT Delhi - Indian Institute of Technology</td>\n",
       "      <td>Delhi</td>\n",
       "      <td>Govt</td>\n",
       "      <td>117</td>\n",
       "      <td>4.5</td>\n",
       "      <td>GATEJEE MainJEE AdvancedIIT JAMCEEDUCEEDUGC NE...</td>\n",
       "      <td>₹30 K - 8.7 L</td>\n",
       "      <td>₹12.5 - 22 LPA</td>\n",
       "    </tr>\n",
       "    <tr>\n",
       "      <th>3</th>\n",
       "      <td>DTU - Delhi Technological University</td>\n",
       "      <td>Delhi</td>\n",
       "      <td>Govt</td>\n",
       "      <td>78</td>\n",
       "      <td>4.3</td>\n",
       "      <td>GATEJEE MainDASA UGJAC DelhiCUET-PGCBSE 12thIS...</td>\n",
       "      <td>₹36 K - 6.4 L</td>\n",
       "      <td>₹9 - 13 LPA</td>\n",
       "    </tr>\n",
       "    <tr>\n",
       "      <th>4</th>\n",
       "      <td>Manipal Institute of Technology</td>\n",
       "      <td>Manipal</td>\n",
       "      <td>Pvt</td>\n",
       "      <td>77</td>\n",
       "      <td>4.3</td>\n",
       "      <td>METKarnataka PGCETGATEKCETDASA UGKMATCBSE 12th...</td>\n",
       "      <td>₹2.2 L - 13.5 L</td>\n",
       "      <td>₹6.2 - 8.88 LPA</td>\n",
       "    </tr>\n",
       "    <tr>\n",
       "      <th>5</th>\n",
       "      <td>Amrita School of Engineering, Amrita Vishwa Vi...</td>\n",
       "      <td>Coimbatore</td>\n",
       "      <td>Pvt</td>\n",
       "      <td>32</td>\n",
       "      <td>4.1</td>\n",
       "      <td>JEE MainTNEAAEEEGATE +2</td>\n",
       "      <td>₹1.8 L - 18 L</td>\n",
       "      <td>₹4.5 - 6.41 LPA</td>\n",
       "    </tr>\n",
       "    <tr>\n",
       "      <th>...</th>\n",
       "      <td>...</td>\n",
       "      <td>...</td>\n",
       "      <td>...</td>\n",
       "      <td>...</td>\n",
       "      <td>...</td>\n",
       "      <td>...</td>\n",
       "      <td>...</td>\n",
       "      <td>...</td>\n",
       "    </tr>\n",
       "    <tr>\n",
       "      <th>10786</th>\n",
       "      <td>Rajputana College of Pharmacy</td>\n",
       "      <td>Bangalore</td>\n",
       "      <td>Pvt</td>\n",
       "      <td>2</td>\n",
       "      <td>2.0</td>\n",
       "      <td>KCETCBSE 12thKarnataka 2nd PUC +2</td>\n",
       "      <td>₹1.1 L</td>\n",
       "      <td>None</td>\n",
       "    </tr>\n",
       "    <tr>\n",
       "      <th>10789</th>\n",
       "      <td>Institute of Fire Service Engineering, MGM Uni...</td>\n",
       "      <td>Aurangabad</td>\n",
       "      <td>None</td>\n",
       "      <td>5</td>\n",
       "      <td>1.0</td>\n",
       "      <td>CBSE 12thISCMaharashtra HSC +1</td>\n",
       "      <td>₹40 K - 80 K</td>\n",
       "      <td>None</td>\n",
       "    </tr>\n",
       "    <tr>\n",
       "      <th>10791</th>\n",
       "      <td>Pavana College of Nursing</td>\n",
       "      <td>Bangalore</td>\n",
       "      <td>Pvt</td>\n",
       "      <td>2</td>\n",
       "      <td>2.0</td>\n",
       "      <td>KCETCBSE 12thKarnataka 2nd PUC +2</td>\n",
       "      <td>– / –</td>\n",
       "      <td>None</td>\n",
       "    </tr>\n",
       "    <tr>\n",
       "      <th>10797</th>\n",
       "      <td>Sahajpath College of Pharmacy</td>\n",
       "      <td>West Bengal - Other</td>\n",
       "      <td>None</td>\n",
       "      <td>3</td>\n",
       "      <td>2.0</td>\n",
       "      <td>WBJEEJEE MainWBJEE JELET +2</td>\n",
       "      <td>₹3 L - 6.2 L</td>\n",
       "      <td>None</td>\n",
       "    </tr>\n",
       "    <tr>\n",
       "      <th>10799</th>\n",
       "      <td>MAAC, Netaji Subhash Place</td>\n",
       "      <td>Delhi</td>\n",
       "      <td>Pvt</td>\n",
       "      <td>28</td>\n",
       "      <td>4.1</td>\n",
       "      <td>CBSE 12th</td>\n",
       "      <td>– / –</td>\n",
       "      <td>5.0</td>\n",
       "    </tr>\n",
       "  </tbody>\n",
       "</table>\n",
       "<p>7214 rows × 8 columns</p>\n",
       "</div>"
      ],
      "text/plain": [
       "                                            college_name             location  \\\n",
       "sr_no                                                                           \n",
       "1            IIT Bombay - Indian Institute of Technology               Mumbai   \n",
       "2             IIT Delhi - Indian Institute of Technology                Delhi   \n",
       "3                   DTU - Delhi Technological University                Delhi   \n",
       "4                        Manipal Institute of Technology              Manipal   \n",
       "5      Amrita School of Engineering, Amrita Vishwa Vi...           Coimbatore   \n",
       "...                                                  ...                  ...   \n",
       "10786                      Rajputana College of Pharmacy            Bangalore   \n",
       "10789  Institute of Fire Service Engineering, MGM Uni...           Aurangabad   \n",
       "10791                          Pavana College of Nursing            Bangalore   \n",
       "10797                      Sahajpath College of Pharmacy  West Bengal - Other   \n",
       "10799                         MAAC, Netaji Subhash Place                Delhi   \n",
       "\n",
       "      college_type  number_of_courses  ratings  \\\n",
       "sr_no                                            \n",
       "1             Govt                104      4.6   \n",
       "2             Govt                117      4.5   \n",
       "3             Govt                 78      4.3   \n",
       "4              Pvt                 77      4.3   \n",
       "5              Pvt                 32      4.1   \n",
       "...            ...                ...      ...   \n",
       "10786          Pvt                  2      2.0   \n",
       "10789         None                  5      1.0   \n",
       "10791          Pvt                  2      2.0   \n",
       "10797         None                  3      2.0   \n",
       "10799          Pvt                 28      4.1   \n",
       "\n",
       "                                          exams_accepted  total_fee_range  \\\n",
       "sr_no                                                                       \n",
       "1      GATEJEE MainJEE AdvancedCOAPIIT JAMCEEDUGC NET...   ₹21.3 K - 10 L   \n",
       "2      GATEJEE MainJEE AdvancedIIT JAMCEEDUCEEDUGC NE...    ₹30 K - 8.7 L   \n",
       "3      GATEJEE MainDASA UGJAC DelhiCUET-PGCBSE 12thIS...    ₹36 K - 6.4 L   \n",
       "4      METKarnataka PGCETGATEKCETDASA UGKMATCBSE 12th...  ₹2.2 L - 13.5 L   \n",
       "5                                JEE MainTNEAAEEEGATE +2    ₹1.8 L - 18 L   \n",
       "...                                                  ...              ...   \n",
       "10786                  KCETCBSE 12thKarnataka 2nd PUC +2           ₹1.1 L   \n",
       "10789                     CBSE 12thISCMaharashtra HSC +1     ₹40 K - 80 K   \n",
       "10791                  KCETCBSE 12thKarnataka 2nd PUC +2            – / –   \n",
       "10797                        WBJEEJEE MainWBJEE JELET +2     ₹3 L - 6.2 L   \n",
       "10799                                          CBSE 12th            – / –   \n",
       "\n",
       "        average_package  \n",
       "sr_no                    \n",
       "1      ₹8.4 - 55.37 LPA  \n",
       "2        ₹12.5 - 22 LPA  \n",
       "3           ₹9 - 13 LPA  \n",
       "4       ₹6.2 - 8.88 LPA  \n",
       "5       ₹4.5 - 6.41 LPA  \n",
       "...                 ...  \n",
       "10786              None  \n",
       "10789              None  \n",
       "10791              None  \n",
       "10797              None  \n",
       "10799               5.0  \n",
       "\n",
       "[7214 rows x 8 columns]"
      ]
     },
     "execution_count": 186,
     "metadata": {},
     "output_type": "execute_result"
    }
   ],
   "source": [
    "ratings_vs_type_df"
   ]
  },
  {
   "cell_type": "code",
   "execution_count": 187,
   "metadata": {},
   "outputs": [
    {
     "name": "stdout",
     "output_type": "stream",
     "text": [
      "college_type\n",
      "Govt     915\n",
      "PPP      151\n",
      "Pvt     4746\n",
      "dtype: int64\n"
     ]
    }
   ],
   "source": [
    "college_type_counts = ratings_vs_type_df.groupby(\"college_type\").size()\n",
    "\n",
    "# Display the count of each college type\n",
    "print(college_type_counts)\n"
   ]
  },
  {
   "cell_type": "code",
   "execution_count": 218,
   "metadata": {},
   "outputs": [
    {
     "data": {
      "application/vnd.plotly.v1+json": {
       "config": {
        "plotlyServerURL": "https://plot.ly"
       },
       "data": [
        {
         "alignmentgroup": "True",
         "hovertemplate": "College Type=%{x}<br>Ratings=%{y}<extra></extra>",
         "legendgroup": "Govt",
         "marker": {
          "color": "brown",
          "pattern": {
           "shape": ""
          }
         },
         "name": "Govt",
         "offsetgroup": "Govt",
         "orientation": "v",
         "showlegend": true,
         "textposition": "auto",
         "type": "bar",
         "x": [
          "Govt"
         ],
         "xaxis": "x",
         "y": [
          3.864918
         ],
         "yaxis": "y"
        },
        {
         "alignmentgroup": "True",
         "hovertemplate": "College Type=%{x}<br>Ratings=%{y}<extra></extra>",
         "legendgroup": "PPP",
         "marker": {
          "color": "green",
          "pattern": {
           "shape": ""
          }
         },
         "name": "PPP",
         "offsetgroup": "PPP",
         "orientation": "v",
         "showlegend": true,
         "textposition": "auto",
         "type": "bar",
         "x": [
          "PPP"
         ],
         "xaxis": "x",
         "y": [
          3.681457
         ],
         "yaxis": "y"
        },
        {
         "alignmentgroup": "True",
         "hovertemplate": "College Type=%{x}<br>Ratings=%{y}<extra></extra>",
         "legendgroup": "Pvt",
         "marker": {
          "color": "blue",
          "pattern": {
           "shape": ""
          }
         },
         "name": "Pvt",
         "offsetgroup": "Pvt",
         "orientation": "v",
         "showlegend": true,
         "textposition": "auto",
         "type": "bar",
         "x": [
          "Pvt"
         ],
         "xaxis": "x",
         "y": [
          3.6513906
         ],
         "yaxis": "y"
        }
       ],
       "layout": {
        "barmode": "relative",
        "height": 400,
        "legend": {
         "title": {
          "text": "College Type"
         },
         "tracegroupgap": 0
        },
        "template": {
         "data": {
          "bar": [
           {
            "error_x": {
             "color": "#2a3f5f"
            },
            "error_y": {
             "color": "#2a3f5f"
            },
            "marker": {
             "line": {
              "color": "#E5ECF6",
              "width": 0.5
             },
             "pattern": {
              "fillmode": "overlay",
              "size": 10,
              "solidity": 0.2
             }
            },
            "type": "bar"
           }
          ],
          "barpolar": [
           {
            "marker": {
             "line": {
              "color": "#E5ECF6",
              "width": 0.5
             },
             "pattern": {
              "fillmode": "overlay",
              "size": 10,
              "solidity": 0.2
             }
            },
            "type": "barpolar"
           }
          ],
          "carpet": [
           {
            "aaxis": {
             "endlinecolor": "#2a3f5f",
             "gridcolor": "white",
             "linecolor": "white",
             "minorgridcolor": "white",
             "startlinecolor": "#2a3f5f"
            },
            "baxis": {
             "endlinecolor": "#2a3f5f",
             "gridcolor": "white",
             "linecolor": "white",
             "minorgridcolor": "white",
             "startlinecolor": "#2a3f5f"
            },
            "type": "carpet"
           }
          ],
          "choropleth": [
           {
            "colorbar": {
             "outlinewidth": 0,
             "ticks": ""
            },
            "type": "choropleth"
           }
          ],
          "contour": [
           {
            "colorbar": {
             "outlinewidth": 0,
             "ticks": ""
            },
            "colorscale": [
             [
              0,
              "#0d0887"
             ],
             [
              0.1111111111111111,
              "#46039f"
             ],
             [
              0.2222222222222222,
              "#7201a8"
             ],
             [
              0.3333333333333333,
              "#9c179e"
             ],
             [
              0.4444444444444444,
              "#bd3786"
             ],
             [
              0.5555555555555556,
              "#d8576b"
             ],
             [
              0.6666666666666666,
              "#ed7953"
             ],
             [
              0.7777777777777778,
              "#fb9f3a"
             ],
             [
              0.8888888888888888,
              "#fdca26"
             ],
             [
              1,
              "#f0f921"
             ]
            ],
            "type": "contour"
           }
          ],
          "contourcarpet": [
           {
            "colorbar": {
             "outlinewidth": 0,
             "ticks": ""
            },
            "type": "contourcarpet"
           }
          ],
          "heatmap": [
           {
            "colorbar": {
             "outlinewidth": 0,
             "ticks": ""
            },
            "colorscale": [
             [
              0,
              "#0d0887"
             ],
             [
              0.1111111111111111,
              "#46039f"
             ],
             [
              0.2222222222222222,
              "#7201a8"
             ],
             [
              0.3333333333333333,
              "#9c179e"
             ],
             [
              0.4444444444444444,
              "#bd3786"
             ],
             [
              0.5555555555555556,
              "#d8576b"
             ],
             [
              0.6666666666666666,
              "#ed7953"
             ],
             [
              0.7777777777777778,
              "#fb9f3a"
             ],
             [
              0.8888888888888888,
              "#fdca26"
             ],
             [
              1,
              "#f0f921"
             ]
            ],
            "type": "heatmap"
           }
          ],
          "heatmapgl": [
           {
            "colorbar": {
             "outlinewidth": 0,
             "ticks": ""
            },
            "colorscale": [
             [
              0,
              "#0d0887"
             ],
             [
              0.1111111111111111,
              "#46039f"
             ],
             [
              0.2222222222222222,
              "#7201a8"
             ],
             [
              0.3333333333333333,
              "#9c179e"
             ],
             [
              0.4444444444444444,
              "#bd3786"
             ],
             [
              0.5555555555555556,
              "#d8576b"
             ],
             [
              0.6666666666666666,
              "#ed7953"
             ],
             [
              0.7777777777777778,
              "#fb9f3a"
             ],
             [
              0.8888888888888888,
              "#fdca26"
             ],
             [
              1,
              "#f0f921"
             ]
            ],
            "type": "heatmapgl"
           }
          ],
          "histogram": [
           {
            "marker": {
             "pattern": {
              "fillmode": "overlay",
              "size": 10,
              "solidity": 0.2
             }
            },
            "type": "histogram"
           }
          ],
          "histogram2d": [
           {
            "colorbar": {
             "outlinewidth": 0,
             "ticks": ""
            },
            "colorscale": [
             [
              0,
              "#0d0887"
             ],
             [
              0.1111111111111111,
              "#46039f"
             ],
             [
              0.2222222222222222,
              "#7201a8"
             ],
             [
              0.3333333333333333,
              "#9c179e"
             ],
             [
              0.4444444444444444,
              "#bd3786"
             ],
             [
              0.5555555555555556,
              "#d8576b"
             ],
             [
              0.6666666666666666,
              "#ed7953"
             ],
             [
              0.7777777777777778,
              "#fb9f3a"
             ],
             [
              0.8888888888888888,
              "#fdca26"
             ],
             [
              1,
              "#f0f921"
             ]
            ],
            "type": "histogram2d"
           }
          ],
          "histogram2dcontour": [
           {
            "colorbar": {
             "outlinewidth": 0,
             "ticks": ""
            },
            "colorscale": [
             [
              0,
              "#0d0887"
             ],
             [
              0.1111111111111111,
              "#46039f"
             ],
             [
              0.2222222222222222,
              "#7201a8"
             ],
             [
              0.3333333333333333,
              "#9c179e"
             ],
             [
              0.4444444444444444,
              "#bd3786"
             ],
             [
              0.5555555555555556,
              "#d8576b"
             ],
             [
              0.6666666666666666,
              "#ed7953"
             ],
             [
              0.7777777777777778,
              "#fb9f3a"
             ],
             [
              0.8888888888888888,
              "#fdca26"
             ],
             [
              1,
              "#f0f921"
             ]
            ],
            "type": "histogram2dcontour"
           }
          ],
          "mesh3d": [
           {
            "colorbar": {
             "outlinewidth": 0,
             "ticks": ""
            },
            "type": "mesh3d"
           }
          ],
          "parcoords": [
           {
            "line": {
             "colorbar": {
              "outlinewidth": 0,
              "ticks": ""
             }
            },
            "type": "parcoords"
           }
          ],
          "pie": [
           {
            "automargin": true,
            "type": "pie"
           }
          ],
          "scatter": [
           {
            "fillpattern": {
             "fillmode": "overlay",
             "size": 10,
             "solidity": 0.2
            },
            "type": "scatter"
           }
          ],
          "scatter3d": [
           {
            "line": {
             "colorbar": {
              "outlinewidth": 0,
              "ticks": ""
             }
            },
            "marker": {
             "colorbar": {
              "outlinewidth": 0,
              "ticks": ""
             }
            },
            "type": "scatter3d"
           }
          ],
          "scattercarpet": [
           {
            "marker": {
             "colorbar": {
              "outlinewidth": 0,
              "ticks": ""
             }
            },
            "type": "scattercarpet"
           }
          ],
          "scattergeo": [
           {
            "marker": {
             "colorbar": {
              "outlinewidth": 0,
              "ticks": ""
             }
            },
            "type": "scattergeo"
           }
          ],
          "scattergl": [
           {
            "marker": {
             "colorbar": {
              "outlinewidth": 0,
              "ticks": ""
             }
            },
            "type": "scattergl"
           }
          ],
          "scattermapbox": [
           {
            "marker": {
             "colorbar": {
              "outlinewidth": 0,
              "ticks": ""
             }
            },
            "type": "scattermapbox"
           }
          ],
          "scatterpolar": [
           {
            "marker": {
             "colorbar": {
              "outlinewidth": 0,
              "ticks": ""
             }
            },
            "type": "scatterpolar"
           }
          ],
          "scatterpolargl": [
           {
            "marker": {
             "colorbar": {
              "outlinewidth": 0,
              "ticks": ""
             }
            },
            "type": "scatterpolargl"
           }
          ],
          "scatterternary": [
           {
            "marker": {
             "colorbar": {
              "outlinewidth": 0,
              "ticks": ""
             }
            },
            "type": "scatterternary"
           }
          ],
          "surface": [
           {
            "colorbar": {
             "outlinewidth": 0,
             "ticks": ""
            },
            "colorscale": [
             [
              0,
              "#0d0887"
             ],
             [
              0.1111111111111111,
              "#46039f"
             ],
             [
              0.2222222222222222,
              "#7201a8"
             ],
             [
              0.3333333333333333,
              "#9c179e"
             ],
             [
              0.4444444444444444,
              "#bd3786"
             ],
             [
              0.5555555555555556,
              "#d8576b"
             ],
             [
              0.6666666666666666,
              "#ed7953"
             ],
             [
              0.7777777777777778,
              "#fb9f3a"
             ],
             [
              0.8888888888888888,
              "#fdca26"
             ],
             [
              1,
              "#f0f921"
             ]
            ],
            "type": "surface"
           }
          ],
          "table": [
           {
            "cells": {
             "fill": {
              "color": "#EBF0F8"
             },
             "line": {
              "color": "white"
             }
            },
            "header": {
             "fill": {
              "color": "#C8D4E3"
             },
             "line": {
              "color": "white"
             }
            },
            "type": "table"
           }
          ]
         },
         "layout": {
          "annotationdefaults": {
           "arrowcolor": "#2a3f5f",
           "arrowhead": 0,
           "arrowwidth": 1
          },
          "autotypenumbers": "strict",
          "coloraxis": {
           "colorbar": {
            "outlinewidth": 0,
            "ticks": ""
           }
          },
          "colorscale": {
           "diverging": [
            [
             0,
             "#8e0152"
            ],
            [
             0.1,
             "#c51b7d"
            ],
            [
             0.2,
             "#de77ae"
            ],
            [
             0.3,
             "#f1b6da"
            ],
            [
             0.4,
             "#fde0ef"
            ],
            [
             0.5,
             "#f7f7f7"
            ],
            [
             0.6,
             "#e6f5d0"
            ],
            [
             0.7,
             "#b8e186"
            ],
            [
             0.8,
             "#7fbc41"
            ],
            [
             0.9,
             "#4d9221"
            ],
            [
             1,
             "#276419"
            ]
           ],
           "sequential": [
            [
             0,
             "#0d0887"
            ],
            [
             0.1111111111111111,
             "#46039f"
            ],
            [
             0.2222222222222222,
             "#7201a8"
            ],
            [
             0.3333333333333333,
             "#9c179e"
            ],
            [
             0.4444444444444444,
             "#bd3786"
            ],
            [
             0.5555555555555556,
             "#d8576b"
            ],
            [
             0.6666666666666666,
             "#ed7953"
            ],
            [
             0.7777777777777778,
             "#fb9f3a"
            ],
            [
             0.8888888888888888,
             "#fdca26"
            ],
            [
             1,
             "#f0f921"
            ]
           ],
           "sequentialminus": [
            [
             0,
             "#0d0887"
            ],
            [
             0.1111111111111111,
             "#46039f"
            ],
            [
             0.2222222222222222,
             "#7201a8"
            ],
            [
             0.3333333333333333,
             "#9c179e"
            ],
            [
             0.4444444444444444,
             "#bd3786"
            ],
            [
             0.5555555555555556,
             "#d8576b"
            ],
            [
             0.6666666666666666,
             "#ed7953"
            ],
            [
             0.7777777777777778,
             "#fb9f3a"
            ],
            [
             0.8888888888888888,
             "#fdca26"
            ],
            [
             1,
             "#f0f921"
            ]
           ]
          },
          "colorway": [
           "#636efa",
           "#EF553B",
           "#00cc96",
           "#ab63fa",
           "#FFA15A",
           "#19d3f3",
           "#FF6692",
           "#B6E880",
           "#FF97FF",
           "#FECB52"
          ],
          "font": {
           "color": "#2a3f5f"
          },
          "geo": {
           "bgcolor": "white",
           "lakecolor": "white",
           "landcolor": "#E5ECF6",
           "showlakes": true,
           "showland": true,
           "subunitcolor": "white"
          },
          "hoverlabel": {
           "align": "left"
          },
          "hovermode": "closest",
          "mapbox": {
           "style": "light"
          },
          "paper_bgcolor": "white",
          "plot_bgcolor": "#E5ECF6",
          "polar": {
           "angularaxis": {
            "gridcolor": "white",
            "linecolor": "white",
            "ticks": ""
           },
           "bgcolor": "#E5ECF6",
           "radialaxis": {
            "gridcolor": "white",
            "linecolor": "white",
            "ticks": ""
           }
          },
          "scene": {
           "xaxis": {
            "backgroundcolor": "#E5ECF6",
            "gridcolor": "white",
            "gridwidth": 2,
            "linecolor": "white",
            "showbackground": true,
            "ticks": "",
            "zerolinecolor": "white"
           },
           "yaxis": {
            "backgroundcolor": "#E5ECF6",
            "gridcolor": "white",
            "gridwidth": 2,
            "linecolor": "white",
            "showbackground": true,
            "ticks": "",
            "zerolinecolor": "white"
           },
           "zaxis": {
            "backgroundcolor": "#E5ECF6",
            "gridcolor": "white",
            "gridwidth": 2,
            "linecolor": "white",
            "showbackground": true,
            "ticks": "",
            "zerolinecolor": "white"
           }
          },
          "shapedefaults": {
           "line": {
            "color": "#2a3f5f"
           }
          },
          "ternary": {
           "aaxis": {
            "gridcolor": "white",
            "linecolor": "white",
            "ticks": ""
           },
           "baxis": {
            "gridcolor": "white",
            "linecolor": "white",
            "ticks": ""
           },
           "bgcolor": "#E5ECF6",
           "caxis": {
            "gridcolor": "white",
            "linecolor": "white",
            "ticks": ""
           }
          },
          "title": {
           "x": 0.05
          },
          "xaxis": {
           "automargin": true,
           "gridcolor": "white",
           "linecolor": "white",
           "ticks": "",
           "title": {
            "standoff": 15
           },
           "zerolinecolor": "white",
           "zerolinewidth": 2
          },
          "yaxis": {
           "automargin": true,
           "gridcolor": "white",
           "linecolor": "white",
           "ticks": "",
           "title": {
            "standoff": 15
           },
           "zerolinecolor": "white",
           "zerolinewidth": 2
          }
         }
        },
        "title": {
         "text": "Ratings by College Type"
        },
        "width": 600,
        "xaxis": {
         "anchor": "y",
         "categoryarray": [
          "Govt",
          "PPP",
          "Pvt"
         ],
         "categoryorder": "array",
         "domain": [
          0,
          1
         ],
         "title": {
          "text": "College Type"
         }
        },
        "yaxis": {
         "anchor": "x",
         "domain": [
          0,
          1
         ],
         "title": {
          "text": "Ratings"
         }
        }
       }
      }
     },
     "metadata": {},
     "output_type": "display_data"
    }
   ],
   "source": [
    "import plotly.express as px\n",
    "\n",
    "# Filter out rows with None values in the 'ratings' column\n",
    "ratings_vs_type_df_filtered = ratings_vs_type_df.dropna(subset=[\"ratings\"])\n",
    "\n",
    "new_ratings = ratings_vs_type_df_filtered.groupby('college_type')[\"ratings\"].mean().reset_index()\n",
    "\n",
    "# Creating an interactive bar plot using Plotly\n",
    "fig = px.bar(new_ratings, x='college_type', y='ratings',\n",
    "             labels={\"college_type\": \"College Type\", \"ratings\": \"Ratings\"},\n",
    "             title=\"Ratings by College Type\",color=\"college_type\",color_discrete_sequence=[\"brown\",\"green\",\"blue\"])\n",
    "\n",
    "fig.update_layout(width=600,height=400)\n",
    "# Show the plot\n",
    "fig.show()\n",
    "\n"
   ]
  },
  {
   "cell_type": "code",
   "execution_count": 206,
   "metadata": {},
   "outputs": [
    {
     "data": {
      "application/vnd.plotly.v1+json": {
       "config": {
        "plotlyServerURL": "https://plot.ly"
       },
       "data": [
        {
         "alignmentgroup": "True",
         "hovertemplate": "College Type=%{x}<br>number_of_courses=%{y}<extra></extra>",
         "legendgroup": "",
         "marker": {
          "color": "#636efa",
          "pattern": {
           "shape": ""
          }
         },
         "name": "",
         "offsetgroup": "",
         "orientation": "v",
         "showlegend": false,
         "textposition": "auto",
         "type": "bar",
         "x": [
          "Govt",
          "PPP",
          "Pvt"
         ],
         "xaxis": "x",
         "y": [
          23.523497267759563,
          9.907284768211921,
          12.419300463548252
         ],
         "yaxis": "y"
        }
       ],
       "layout": {
        "bargap": 0.5,
        "barmode": "group",
        "height": 400,
        "legend": {
         "tracegroupgap": 0
        },
        "template": {
         "data": {
          "bar": [
           {
            "error_x": {
             "color": "#2a3f5f"
            },
            "error_y": {
             "color": "#2a3f5f"
            },
            "marker": {
             "line": {
              "color": "#E5ECF6",
              "width": 0.5
             },
             "pattern": {
              "fillmode": "overlay",
              "size": 10,
              "solidity": 0.2
             }
            },
            "type": "bar"
           }
          ],
          "barpolar": [
           {
            "marker": {
             "line": {
              "color": "#E5ECF6",
              "width": 0.5
             },
             "pattern": {
              "fillmode": "overlay",
              "size": 10,
              "solidity": 0.2
             }
            },
            "type": "barpolar"
           }
          ],
          "carpet": [
           {
            "aaxis": {
             "endlinecolor": "#2a3f5f",
             "gridcolor": "white",
             "linecolor": "white",
             "minorgridcolor": "white",
             "startlinecolor": "#2a3f5f"
            },
            "baxis": {
             "endlinecolor": "#2a3f5f",
             "gridcolor": "white",
             "linecolor": "white",
             "minorgridcolor": "white",
             "startlinecolor": "#2a3f5f"
            },
            "type": "carpet"
           }
          ],
          "choropleth": [
           {
            "colorbar": {
             "outlinewidth": 0,
             "ticks": ""
            },
            "type": "choropleth"
           }
          ],
          "contour": [
           {
            "colorbar": {
             "outlinewidth": 0,
             "ticks": ""
            },
            "colorscale": [
             [
              0,
              "#0d0887"
             ],
             [
              0.1111111111111111,
              "#46039f"
             ],
             [
              0.2222222222222222,
              "#7201a8"
             ],
             [
              0.3333333333333333,
              "#9c179e"
             ],
             [
              0.4444444444444444,
              "#bd3786"
             ],
             [
              0.5555555555555556,
              "#d8576b"
             ],
             [
              0.6666666666666666,
              "#ed7953"
             ],
             [
              0.7777777777777778,
              "#fb9f3a"
             ],
             [
              0.8888888888888888,
              "#fdca26"
             ],
             [
              1,
              "#f0f921"
             ]
            ],
            "type": "contour"
           }
          ],
          "contourcarpet": [
           {
            "colorbar": {
             "outlinewidth": 0,
             "ticks": ""
            },
            "type": "contourcarpet"
           }
          ],
          "heatmap": [
           {
            "colorbar": {
             "outlinewidth": 0,
             "ticks": ""
            },
            "colorscale": [
             [
              0,
              "#0d0887"
             ],
             [
              0.1111111111111111,
              "#46039f"
             ],
             [
              0.2222222222222222,
              "#7201a8"
             ],
             [
              0.3333333333333333,
              "#9c179e"
             ],
             [
              0.4444444444444444,
              "#bd3786"
             ],
             [
              0.5555555555555556,
              "#d8576b"
             ],
             [
              0.6666666666666666,
              "#ed7953"
             ],
             [
              0.7777777777777778,
              "#fb9f3a"
             ],
             [
              0.8888888888888888,
              "#fdca26"
             ],
             [
              1,
              "#f0f921"
             ]
            ],
            "type": "heatmap"
           }
          ],
          "heatmapgl": [
           {
            "colorbar": {
             "outlinewidth": 0,
             "ticks": ""
            },
            "colorscale": [
             [
              0,
              "#0d0887"
             ],
             [
              0.1111111111111111,
              "#46039f"
             ],
             [
              0.2222222222222222,
              "#7201a8"
             ],
             [
              0.3333333333333333,
              "#9c179e"
             ],
             [
              0.4444444444444444,
              "#bd3786"
             ],
             [
              0.5555555555555556,
              "#d8576b"
             ],
             [
              0.6666666666666666,
              "#ed7953"
             ],
             [
              0.7777777777777778,
              "#fb9f3a"
             ],
             [
              0.8888888888888888,
              "#fdca26"
             ],
             [
              1,
              "#f0f921"
             ]
            ],
            "type": "heatmapgl"
           }
          ],
          "histogram": [
           {
            "marker": {
             "pattern": {
              "fillmode": "overlay",
              "size": 10,
              "solidity": 0.2
             }
            },
            "type": "histogram"
           }
          ],
          "histogram2d": [
           {
            "colorbar": {
             "outlinewidth": 0,
             "ticks": ""
            },
            "colorscale": [
             [
              0,
              "#0d0887"
             ],
             [
              0.1111111111111111,
              "#46039f"
             ],
             [
              0.2222222222222222,
              "#7201a8"
             ],
             [
              0.3333333333333333,
              "#9c179e"
             ],
             [
              0.4444444444444444,
              "#bd3786"
             ],
             [
              0.5555555555555556,
              "#d8576b"
             ],
             [
              0.6666666666666666,
              "#ed7953"
             ],
             [
              0.7777777777777778,
              "#fb9f3a"
             ],
             [
              0.8888888888888888,
              "#fdca26"
             ],
             [
              1,
              "#f0f921"
             ]
            ],
            "type": "histogram2d"
           }
          ],
          "histogram2dcontour": [
           {
            "colorbar": {
             "outlinewidth": 0,
             "ticks": ""
            },
            "colorscale": [
             [
              0,
              "#0d0887"
             ],
             [
              0.1111111111111111,
              "#46039f"
             ],
             [
              0.2222222222222222,
              "#7201a8"
             ],
             [
              0.3333333333333333,
              "#9c179e"
             ],
             [
              0.4444444444444444,
              "#bd3786"
             ],
             [
              0.5555555555555556,
              "#d8576b"
             ],
             [
              0.6666666666666666,
              "#ed7953"
             ],
             [
              0.7777777777777778,
              "#fb9f3a"
             ],
             [
              0.8888888888888888,
              "#fdca26"
             ],
             [
              1,
              "#f0f921"
             ]
            ],
            "type": "histogram2dcontour"
           }
          ],
          "mesh3d": [
           {
            "colorbar": {
             "outlinewidth": 0,
             "ticks": ""
            },
            "type": "mesh3d"
           }
          ],
          "parcoords": [
           {
            "line": {
             "colorbar": {
              "outlinewidth": 0,
              "ticks": ""
             }
            },
            "type": "parcoords"
           }
          ],
          "pie": [
           {
            "automargin": true,
            "type": "pie"
           }
          ],
          "scatter": [
           {
            "fillpattern": {
             "fillmode": "overlay",
             "size": 10,
             "solidity": 0.2
            },
            "type": "scatter"
           }
          ],
          "scatter3d": [
           {
            "line": {
             "colorbar": {
              "outlinewidth": 0,
              "ticks": ""
             }
            },
            "marker": {
             "colorbar": {
              "outlinewidth": 0,
              "ticks": ""
             }
            },
            "type": "scatter3d"
           }
          ],
          "scattercarpet": [
           {
            "marker": {
             "colorbar": {
              "outlinewidth": 0,
              "ticks": ""
             }
            },
            "type": "scattercarpet"
           }
          ],
          "scattergeo": [
           {
            "marker": {
             "colorbar": {
              "outlinewidth": 0,
              "ticks": ""
             }
            },
            "type": "scattergeo"
           }
          ],
          "scattergl": [
           {
            "marker": {
             "colorbar": {
              "outlinewidth": 0,
              "ticks": ""
             }
            },
            "type": "scattergl"
           }
          ],
          "scattermapbox": [
           {
            "marker": {
             "colorbar": {
              "outlinewidth": 0,
              "ticks": ""
             }
            },
            "type": "scattermapbox"
           }
          ],
          "scatterpolar": [
           {
            "marker": {
             "colorbar": {
              "outlinewidth": 0,
              "ticks": ""
             }
            },
            "type": "scatterpolar"
           }
          ],
          "scatterpolargl": [
           {
            "marker": {
             "colorbar": {
              "outlinewidth": 0,
              "ticks": ""
             }
            },
            "type": "scatterpolargl"
           }
          ],
          "scatterternary": [
           {
            "marker": {
             "colorbar": {
              "outlinewidth": 0,
              "ticks": ""
             }
            },
            "type": "scatterternary"
           }
          ],
          "surface": [
           {
            "colorbar": {
             "outlinewidth": 0,
             "ticks": ""
            },
            "colorscale": [
             [
              0,
              "#0d0887"
             ],
             [
              0.1111111111111111,
              "#46039f"
             ],
             [
              0.2222222222222222,
              "#7201a8"
             ],
             [
              0.3333333333333333,
              "#9c179e"
             ],
             [
              0.4444444444444444,
              "#bd3786"
             ],
             [
              0.5555555555555556,
              "#d8576b"
             ],
             [
              0.6666666666666666,
              "#ed7953"
             ],
             [
              0.7777777777777778,
              "#fb9f3a"
             ],
             [
              0.8888888888888888,
              "#fdca26"
             ],
             [
              1,
              "#f0f921"
             ]
            ],
            "type": "surface"
           }
          ],
          "table": [
           {
            "cells": {
             "fill": {
              "color": "#EBF0F8"
             },
             "line": {
              "color": "white"
             }
            },
            "header": {
             "fill": {
              "color": "#C8D4E3"
             },
             "line": {
              "color": "white"
             }
            },
            "type": "table"
           }
          ]
         },
         "layout": {
          "annotationdefaults": {
           "arrowcolor": "#2a3f5f",
           "arrowhead": 0,
           "arrowwidth": 1
          },
          "autotypenumbers": "strict",
          "coloraxis": {
           "colorbar": {
            "outlinewidth": 0,
            "ticks": ""
           }
          },
          "colorscale": {
           "diverging": [
            [
             0,
             "#8e0152"
            ],
            [
             0.1,
             "#c51b7d"
            ],
            [
             0.2,
             "#de77ae"
            ],
            [
             0.3,
             "#f1b6da"
            ],
            [
             0.4,
             "#fde0ef"
            ],
            [
             0.5,
             "#f7f7f7"
            ],
            [
             0.6,
             "#e6f5d0"
            ],
            [
             0.7,
             "#b8e186"
            ],
            [
             0.8,
             "#7fbc41"
            ],
            [
             0.9,
             "#4d9221"
            ],
            [
             1,
             "#276419"
            ]
           ],
           "sequential": [
            [
             0,
             "#0d0887"
            ],
            [
             0.1111111111111111,
             "#46039f"
            ],
            [
             0.2222222222222222,
             "#7201a8"
            ],
            [
             0.3333333333333333,
             "#9c179e"
            ],
            [
             0.4444444444444444,
             "#bd3786"
            ],
            [
             0.5555555555555556,
             "#d8576b"
            ],
            [
             0.6666666666666666,
             "#ed7953"
            ],
            [
             0.7777777777777778,
             "#fb9f3a"
            ],
            [
             0.8888888888888888,
             "#fdca26"
            ],
            [
             1,
             "#f0f921"
            ]
           ],
           "sequentialminus": [
            [
             0,
             "#0d0887"
            ],
            [
             0.1111111111111111,
             "#46039f"
            ],
            [
             0.2222222222222222,
             "#7201a8"
            ],
            [
             0.3333333333333333,
             "#9c179e"
            ],
            [
             0.4444444444444444,
             "#bd3786"
            ],
            [
             0.5555555555555556,
             "#d8576b"
            ],
            [
             0.6666666666666666,
             "#ed7953"
            ],
            [
             0.7777777777777778,
             "#fb9f3a"
            ],
            [
             0.8888888888888888,
             "#fdca26"
            ],
            [
             1,
             "#f0f921"
            ]
           ]
          },
          "colorway": [
           "#636efa",
           "#EF553B",
           "#00cc96",
           "#ab63fa",
           "#FFA15A",
           "#19d3f3",
           "#FF6692",
           "#B6E880",
           "#FF97FF",
           "#FECB52"
          ],
          "font": {
           "color": "#2a3f5f"
          },
          "geo": {
           "bgcolor": "white",
           "lakecolor": "white",
           "landcolor": "#E5ECF6",
           "showlakes": true,
           "showland": true,
           "subunitcolor": "white"
          },
          "hoverlabel": {
           "align": "left"
          },
          "hovermode": "closest",
          "mapbox": {
           "style": "light"
          },
          "paper_bgcolor": "white",
          "plot_bgcolor": "#E5ECF6",
          "polar": {
           "angularaxis": {
            "gridcolor": "white",
            "linecolor": "white",
            "ticks": ""
           },
           "bgcolor": "#E5ECF6",
           "radialaxis": {
            "gridcolor": "white",
            "linecolor": "white",
            "ticks": ""
           }
          },
          "scene": {
           "xaxis": {
            "backgroundcolor": "#E5ECF6",
            "gridcolor": "white",
            "gridwidth": 2,
            "linecolor": "white",
            "showbackground": true,
            "ticks": "",
            "zerolinecolor": "white"
           },
           "yaxis": {
            "backgroundcolor": "#E5ECF6",
            "gridcolor": "white",
            "gridwidth": 2,
            "linecolor": "white",
            "showbackground": true,
            "ticks": "",
            "zerolinecolor": "white"
           },
           "zaxis": {
            "backgroundcolor": "#E5ECF6",
            "gridcolor": "white",
            "gridwidth": 2,
            "linecolor": "white",
            "showbackground": true,
            "ticks": "",
            "zerolinecolor": "white"
           }
          },
          "shapedefaults": {
           "line": {
            "color": "#2a3f5f"
           }
          },
          "ternary": {
           "aaxis": {
            "gridcolor": "white",
            "linecolor": "white",
            "ticks": ""
           },
           "baxis": {
            "gridcolor": "white",
            "linecolor": "white",
            "ticks": ""
           },
           "bgcolor": "#E5ECF6",
           "caxis": {
            "gridcolor": "white",
            "linecolor": "white",
            "ticks": ""
           }
          },
          "title": {
           "x": 0.05
          },
          "xaxis": {
           "automargin": true,
           "gridcolor": "white",
           "linecolor": "white",
           "ticks": "",
           "title": {
            "standoff": 15
           },
           "zerolinecolor": "white",
           "zerolinewidth": 2
          },
          "yaxis": {
           "automargin": true,
           "gridcolor": "white",
           "linecolor": "white",
           "ticks": "",
           "title": {
            "standoff": 15
           },
           "zerolinecolor": "white",
           "zerolinewidth": 2
          }
         }
        },
        "title": {
         "text": "Number of Courses by College Type"
        },
        "width": 600,
        "xaxis": {
         "anchor": "y",
         "domain": [
          0,
          1
         ],
         "title": {
          "text": "College Type"
         }
        },
        "yaxis": {
         "anchor": "x",
         "domain": [
          0,
          1
         ],
         "title": {
          "text": "number_of_courses"
         }
        }
       }
      }
     },
     "metadata": {},
     "output_type": "display_data"
    }
   ],
   "source": [
    "\n",
    "new_ratings_df = ratings_vs_type_df_filtered.groupby('college_type')[\"number_of_courses\"].mean().reset_index()\n",
    "# Create a bar plot using Matplotlib\n",
    "# Creating an interactive bar plot using Plotly\n",
    "fig = px.bar(new_ratings_df, x='college_type', y='number_of_courses',\n",
    "             labels={\"college_type\": \"College Type\", \"ratings\": \"Ratings\"},\n",
    "             title=\"Number of Courses by College Type\")\n",
    "\n",
    "fig.update_layout(width=600,height=400,barmode='group', bargap=0.5)\n",
    "# Show the plot\n",
    "fig.show()\n"
   ]
  },
  {
   "cell_type": "code",
   "execution_count": 189,
   "metadata": {},
   "outputs": [],
   "source": [
    "spark.stop()"
   ]
  }
 ],
 "metadata": {
  "kernelspec": {
   "display_name": "Python 3",
   "language": "python",
   "name": "python3"
  },
  "language_info": {
   "codemirror_mode": {
    "name": "ipython",
    "version": 3
   },
   "file_extension": ".py",
   "mimetype": "text/x-python",
   "name": "python",
   "nbconvert_exporter": "python",
   "pygments_lexer": "ipython3",
   "version": "3.8.10"
  },
  "orig_nbformat": 4
 },
 "nbformat": 4,
 "nbformat_minor": 2
}
