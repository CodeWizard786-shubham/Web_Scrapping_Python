{
 "cells": [
  {
   "cell_type": "markdown",
   "id": "409f4900",
   "metadata": {},
   "source": [
    "# Web scrape Shiksha.com records"
   ]
  },
  {
   "cell_type": "markdown",
   "id": "ae227797",
   "metadata": {},
   "source": [
    "Import Libraries"
   ]
  },
  {
   "cell_type": "code",
   "execution_count": 25,
   "id": "de389835",
   "metadata": {},
   "outputs": [],
   "source": [
    "from bs4 import BeautifulSoup\n",
    "import requests\n",
    "from time import time\n",
    "import csv\n",
    "import logging"
   ]
  },
  {
   "cell_type": "markdown",
   "id": "8d8d2538",
   "metadata": {},
   "source": [
    "Logging fro error Handling"
   ]
  },
  {
   "cell_type": "code",
   "execution_count": 26,
   "id": "ec83b360",
   "metadata": {},
   "outputs": [],
   "source": [
    "logger = logging.getLogger(\"BeautifulSoup\")"
   ]
  },
  {
   "cell_type": "markdown",
   "id": "1275db3c",
   "metadata": {},
   "source": [
    "Function to define website url and params to increase page number"
   ]
  },
  {
   "cell_type": "code",
   "execution_count": 27,
   "id": "e5d9a982",
   "metadata": {},
   "outputs": [],
   "source": [
    "def url(pn_number):\n",
    "    try:\n",
    "        base_url = 'https://www.shiksha.com/search'\n",
    "        params = {\n",
    "            'q': 'list%20of%20colleges',\n",
    "            'pn': pn_number  # Start with page 1\n",
    "        }\n",
    "\n",
    "        return base_url,params\n",
    "    except Exception as e:\n",
    "        logger.error(str(e))"
   ]
  },
  {
   "cell_type": "markdown",
   "id": "b72e8161",
   "metadata": {},
   "source": [
    "Function to connect Web page"
   ]
  },
  {
   "cell_type": "code",
   "execution_count": 28,
   "id": "03dcf848",
   "metadata": {},
   "outputs": [],
   "source": [
    "def connect_webpage(base_url,params):\n",
    "\n",
    "    try:\n",
    "        # connect chrome driver \n",
    "        headers = {'user-agent':'Mozilla/5.0 (Windows NT 10.0; Win64; x64) AppleWebKit/537.36 (KHTML, like Gecko) Chrome/115.0.0.0 Safari/537.36'}\n",
    "        page = requests.get(base_url,headers=headers,params=params)\n",
    "        return page\n",
    "    except Exception as e:\n",
    "        logger.error(str(e))"
   ]
  },
  {
   "cell_type": "markdown",
   "id": "f222ab33",
   "metadata": {},
   "source": [
    "Function to handle missing values"
   ]
  },
  {
   "cell_type": "code",
   "execution_count": 29,
   "id": "d8d1a1df",
   "metadata": {},
   "outputs": [],
   "source": [
    "def extract_text(element):\n",
    "    return element.text.strip() if element else 'NULL'"
   ]
  },
  {
   "cell_type": "markdown",
   "id": "f51b39cd",
   "metadata": {},
   "source": [
    "script to scrape records and store in csv file"
   ]
  },
  {
   "cell_type": "code",
   "execution_count": 30,
   "id": "45f61ddb",
   "metadata": {},
   "outputs": [],
   "source": [
    "def scrape_records():\n",
    "    try:\n",
    "        params={\n",
    "            'pn' : 1\n",
    "        }\n",
    "        with open(\"shiksha1.csv\",mode=\"a\",encoding=\"utf-8\") as csvfile:\n",
    "            writer = csv.writer(csvfile,delimiter=\",\")\n",
    "            writer.writerow([\"Sr No\",\"College Name\",\"Location\",\"College Type\",\"Number of courses\",\"Ratings\",\"Exams Accepted\",'Total Fee Range','Average Package'])\n",
    "            count=0\n",
    "            last_page_number=809\n",
    "            page_number=1\n",
    "            record = 0\n",
    "            params['pn']= 1\n",
    "            while params['pn'] <= last_page_number:\n",
    "                base_url, params = url(params['pn'])  # Get the updated URL and parameters\n",
    "                page = connect_webpage(base_url, params)\n",
    "                # create soup object to parse though website html\n",
    "                soup = BeautifulSoup(page.content,'html.parser')\n",
    "                results = soup.find(class_ = \"ctpSrp-contnr\")\n",
    "                for elements in results: # only if elemtns are present in results\n",
    "                    college_name_elements = elements.find_all_next(\"div\",class_=\"c43a\")\n",
    "                    location = elements.find_all_next(\"div\",class_ = \"edfa\")\n",
    "                    content_columns = elements.find_all_next(\"div\", class_=\"cd4f _5c64 contentColumn_2\")\n",
    "                    if college_name_elements:\n",
    "                        for college, loc,columns in zip(college_name_elements, location,content_columns):\n",
    "                            count +=1\n",
    "                            college_name = extract_text(college.find_next(\"h3\"))\n",
    "                            location = extract_text(loc.find_next(\"span\",class_=\"_5588\"))  # Get the second last span tag for location\n",
    "                            college_type = extract_text(loc.find_all_next(\"span\")[2])\n",
    "                            number_of_courses = extract_text(columns.find_next(\"a\" ,class_=\"_9865 ripple dark\"))\n",
    "                            ratings = extract_text(columns.find_next(\"span\"))\n",
    "                            exams_accespted = extract_text(columns.find_next(\"ul\",class_=\"_0954\"))\n",
    "                            total_fee_range = extract_text(columns.find_all_next(\"div\",class_ =\"dcfd undefined\")[2])\n",
    "                            average_package = extract_text(columns.find_next(\"a\", class_=\"ripple dark\"))\n",
    "                            writer.writerow([count,college_name, location,college_type,number_of_courses,ratings,exams_accespted,total_fee_range,average_package])\n",
    "                            record +=1\n",
    "                \n",
    "                params['pn'] += 1  # Move to the next page\n",
    "                page_number +=1\n",
    "                if params['pn'] > last_page_number:\n",
    "                    print(\"College records Successfully scraped\")\n",
    "                    break\n",
    "\n",
    "    except Exception as e:\n",
    "        logger.error(e)\n",
    "\n",
    "    finally:\n",
    "        with open(\"page_number.csv\",mode='w',encoding=\"utf-8\") as file:\n",
    "            writer = csv.writer(file)\n",
    "            writer.writerow(['Page_Number','Record'])\n",
    "            writer.writerow([page_number,record])\n",
    "            "
   ]
  },
  {
   "cell_type": "markdown",
   "id": "6263f6b0",
   "metadata": {},
   "source": [
    "# Driver Code To run scrapping scripts"
   ]
  },
  {
   "cell_type": "code",
   "execution_count": null,
   "id": "e59febec",
   "metadata": {},
   "outputs": [],
   "source": [
    "if __name__ == \"__main__\":\n",
    "    try:\n",
    "        scrape_records()\n",
    "    except Exception as e:\n",
    "        logger.error(e)\n",
    "    \n",
    "    "
   ]
  },
  {
   "cell_type": "code",
   "execution_count": null,
   "id": "6ddaf452",
   "metadata": {},
   "outputs": [
    {
     "name": "stdout",
     "output_type": "stream",
     "text": [
      "Duplicated rows:\n",
      "Empty DataFrame\n",
      "Columns: [Sr No, College Name, Location, College Type, Number of courses, Ratings, Exams Accepted, Total Fee Range, Average Package]\n",
      "Index: []\n"
     ]
    }
   ],
   "source": [
    "import pandas as pd\n",
    "\n",
    "df = pd.read_csv(\"shiksha.csv\")\n",
    "\n",
    "# duplicate_count = df.duplicated().sum()\n",
    "# print(\"Number of duplicate rows:\", duplicate_count)\n",
    "\n",
    "\n",
    "# df.count()\n",
    "\n",
    "duplicate_rows = df[df.duplicated(keep=False)]\n",
    "print(\"Duplicated rows:\")\n",
    "print(duplicate_rows)\n",
    "\n",
    "\n",
    "\n",
    "\n"
   ]
  }
 ],
 "metadata": {
  "kernelspec": {
   "display_name": "Python 3 (ipykernel)",
   "language": "python",
   "name": "python3"
  },
  "language_info": {
   "codemirror_mode": {
    "name": "ipython",
    "version": 3
   },
   "file_extension": ".py",
   "mimetype": "text/x-python",
   "name": "python",
   "nbconvert_exporter": "python",
   "pygments_lexer": "ipython3",
   "version": "3.8.10"
  }
 },
 "nbformat": 4,
 "nbformat_minor": 5
}
