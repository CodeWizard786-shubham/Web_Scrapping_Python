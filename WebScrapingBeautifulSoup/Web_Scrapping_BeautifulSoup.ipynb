{
 "cells": [
  {
   "cell_type": "markdown",
   "id": "409f4900",
   "metadata": {},
   "source": [
    "# Web scrape Shiksha.com records"
   ]
  },
  {
   "cell_type": "markdown",
   "id": "ae227797",
   "metadata": {},
   "source": [
    "Import Libraries"
   ]
  },
  {
   "cell_type": "code",
   "execution_count": 144,
   "id": "de389835",
   "metadata": {},
   "outputs": [],
   "source": [
    "from bs4 import BeautifulSoup\n",
    "import requests\n",
    "from time import time\n",
    "import csv\n",
    "import logging"
   ]
  },
  {
   "cell_type": "markdown",
   "id": "8d8d2538",
   "metadata": {},
   "source": [
    "Logging fro error Handling"
   ]
  },
  {
   "cell_type": "code",
   "execution_count": 145,
   "id": "ec83b360",
   "metadata": {},
   "outputs": [],
   "source": [
    "logger = logging.getLogger(\"BeautifulSoup\")"
   ]
  },
  {
   "cell_type": "markdown",
   "id": "1275db3c",
   "metadata": {},
   "source": [
    "Function to define website url and params to increase page number"
   ]
  },
  {
   "cell_type": "code",
   "execution_count": 146,
   "id": "e5d9a982",
   "metadata": {},
   "outputs": [],
   "source": [
    "def url(pn_number):\n",
    "    try:\n",
    "        base_url = 'https://www.shiksha.com/search'\n",
    "        params = {\n",
    "            'q': 'list%20of%20colleges',\n",
    "            'pn': pn_number  # Start with page 1\n",
    "        }\n",
    "\n",
    "        return base_url,params\n",
    "    except Exception as e:\n",
    "        logger.error(str(e))"
   ]
  },
  {
   "cell_type": "markdown",
   "id": "b72e8161",
   "metadata": {},
   "source": [
    "Function to connect Web page"
   ]
  },
  {
   "cell_type": "code",
   "execution_count": 147,
   "id": "03dcf848",
   "metadata": {},
   "outputs": [],
   "source": [
    "def connect_webpage(base_url,params):\n",
    "\n",
    "    try:\n",
    "        # connect chrome driver \n",
    "        headers = {'user-agent':'Mozilla/5.0 (Windows NT 10.0; Win64; x64) AppleWebKit/537.36 (KHTML, like Gecko) Chrome/115.0.0.0 Safari/537.36'}\n",
    "        page = requests.get(base_url,headers=headers,params=params)\n",
    "        return page\n",
    "    except Exception as e:\n",
    "        logger.error(str(e))"
   ]
  },
  {
   "cell_type": "markdown",
   "id": "f222ab33",
   "metadata": {},
   "source": [
    "Function to handle missing values"
   ]
  },
  {
   "cell_type": "code",
   "execution_count": 148,
   "id": "d8d1a1df",
   "metadata": {},
   "outputs": [],
   "source": [
    "def extract_text(element):\n",
    "    return element.text.strip() if element else 'NULL'"
   ]
  },
  {
   "cell_type": "markdown",
   "id": "f51b39cd",
   "metadata": {},
   "source": [
    "script to scrape records and store in csv file"
   ]
  },
  {
   "cell_type": "code",
   "execution_count": 149,
   "id": "45f61ddb",
   "metadata": {},
   "outputs": [],
   "source": [
    "def scrape_records():\n",
    "    try:\n",
    "        global params\n",
    "        with open(\"shiksha.csv\",mode=\"a\",encoding=\"utf-8\") as csvfile:\n",
    "            writer = csv.writer(csvfile,delimiter=\",\")\n",
    "            writer.writerow([\"Sr No\",\"College Name\",\"Location\",\"College Type\",\"Number of courses\",\"Ratings\",\"Exams Accepted\",'Total Fee Range','Average Package'])\n",
    "            count=0\n",
    "            last_page_number=809\n",
    "            page_number=1\n",
    "            record = 0\n",
    "            params['pn']= 1\n",
    "            while params['pn'] <= last_page_number:\n",
    "                base_url, params = url(params['pn'])  # Get the updated URL and parameters\n",
    "                page = connect_webpage(base_url, params)\n",
    "                # create soup object to parse though website html\n",
    "                soup = BeautifulSoup(page.content,'html.parser')\n",
    "                results = soup.find(class_ = \"ctpSrp-contnr\")\n",
    "                for elements in results: # only if elemtns are present in results\n",
    "                    college_name_elements = elements.find_all_next(\"div\",class_=\"c43a\")\n",
    "                    location = elements.find_all_next(\"div\",class_ = \"edfa\")\n",
    "                    content_columns = elements.find_all_next(\"div\", class_=\"cd4f _5c64 contentColumn_2\")\n",
    "                    if college_name_elements:\n",
    "                        for college, loc,columns in zip(college_name_elements, location,content_columns):\n",
    "                            count +=1\n",
    "                            college_name = extract_text(college.find_next(\"h3\"))\n",
    "                            location = extract_text(loc.find_next(\"span\",class_=\"_5588\"))  # Get the second last span tag for location\n",
    "                            college_type = extract_text(loc.find_all_next(\"span\")[2])\n",
    "                            number_of_courses = extract_text(columns.find_next(\"a\" ,class_=\"_9865 ripple dark\"))\n",
    "                            ratings = extract_text(columns.find_next(\"span\"))\n",
    "                            exams_accespted = extract_text(columns.find_next(\"ul\",class_=\"_0954\"))\n",
    "                            total_fee_range = extract_text(columns.find_all_next(\"div\",class_ =\"dcfd undefined\")[2])\n",
    "                            average_package = extract_text(columns.find_next(\"a\", class_=\"ripple dark\"))\n",
    "                            writer.writerow([count,college_name, location,college_type,number_of_courses,ratings,exams_accespted,total_fee_range,average_package])\n",
    "                            record +=1\n",
    "                \n",
    "                params['pn'] += 1  # Move to the next page\n",
    "                page_number +=1\n",
    "                if params['pn'] > last_page_number:\n",
    "                    print(\"College records Successfully scraped\")\n",
    "                    break\n",
    "\n",
    "    except Exception as e:\n",
    "        logger.error(e)\n",
    "\n",
    "    finally:\n",
    "        with open(\"page_number.csv\",mode='w',encoding=\"utf-8\") as file:\n",
    "            writer = csv.writer(file)\n",
    "            writer.writerow(['Page_Number','Record'])\n",
    "            writer.writerow([page_number,record])\n",
    "            "
   ]
  },
  {
   "cell_type": "markdown",
   "id": "6263f6b0",
   "metadata": {},
   "source": [
    "# Driver Code To run scrapping scripts"
   ]
  },
  {
   "cell_type": "code",
   "execution_count": 150,
   "id": "e59febec",
   "metadata": {},
   "outputs": [
    {
     "name": "stderr",
     "output_type": "stream",
     "text": [
      "'NoneType' object is not iterable\n"
     ]
    }
   ],
   "source": [
    "if __name__ == \"__main__\":\n",
    "    try:\n",
    "        scrape_records()\n",
    "    except Exception as e:\n",
    "        logger.error(e)\n",
    "    \n",
    "    "
   ]
  },
  {
   "cell_type": "markdown",
   "id": "b02aebcf",
   "metadata": {},
   "source": [
    "Check Dulicate Values in csv file"
   ]
  },
  {
   "cell_type": "code",
   "execution_count": 2,
   "id": "6ddaf452",
   "metadata": {},
   "outputs": [
    {
     "name": "stdout",
     "output_type": "stream",
     "text": [
      "23/08/08 17:54:47 WARN Utils: Your hostname, UbuntuOS resolves to a loopback address: 127.0.1.1; using 10.0.2.15 instead (on interface enp0s3)\n",
      "23/08/08 17:54:47 WARN Utils: Set SPARK_LOCAL_IP if you need to bind to another address\n"
     ]
    },
    {
     "name": "stderr",
     "output_type": "stream",
     "text": [
      "Setting default log level to \"WARN\".\n",
      "To adjust logging level use sc.setLogLevel(newLevel). For SparkR, use setLogLevel(newLevel).\n"
     ]
    },
    {
     "name": "stdout",
     "output_type": "stream",
     "text": [
      "23/08/08 17:54:49 WARN NativeCodeLoader: Unable to load native-hadoop library for your platform... using builtin-java classes where applicable\n"
     ]
    },
    {
     "name": "stderr",
     "output_type": "stream",
     "text": [
      "                                                                                \r"
     ]
    },
    {
     "data": {
      "text/plain": [
       "24237"
      ]
     },
     "execution_count": 2,
     "metadata": {},
     "output_type": "execute_result"
    }
   ],
   "source": [
    "from pyspark.sql import SparkSession\n",
    "from pyspark.sql.functions import sum\n",
    "\n",
    "spark = SparkSession.builder.appName('Shiksha_records').getOrCreate()\n",
    "\n",
    "df = spark.read.csv('shiksha.csv',header=True,inferSchema=True)\n",
    "\n",
    "modified_df=df.groupBy(df.columns).count().select(df.columns)\n",
    "\n",
    "\n",
    "modified_df.count()\n",
    "\n"
   ]
  },
  {
   "cell_type": "markdown",
   "id": "108c62ce",
   "metadata": {},
   "source": [
    "Load Data into HDFS"
   ]
  },
  {
   "cell_type": "code",
   "execution_count": 3,
   "id": "1c85d4ec",
   "metadata": {},
   "outputs": [
    {
     "name": "stderr",
     "output_type": "stream",
     "text": [
      "[Stage 10:>                                                         (0 + 2) / 2]\r"
     ]
    },
    {
     "name": "stdout",
     "output_type": "stream",
     "text": [
      "Web scraped data Sucessfully Loaded\n"
     ]
    },
    {
     "name": "stderr",
     "output_type": "stream",
     "text": [
      "                                                                                \r"
     ]
    }
   ],
   "source": [
    "\n",
    "# write csv file to hadoop filesystem\n",
    "modified_df.write.format(\"csv\").save(\"hdfs://localhost:9000/web_scrape_data/shiksha_records.csv\",header=True,inferschema=True)\n",
    "\n",
    "print(\"Web scraped data Sucessfully Loaded\")"
   ]
  }
 ],
 "metadata": {
  "kernelspec": {
   "display_name": "Python 3 (ipykernel)",
   "language": "python",
   "name": "python3"
  },
  "language_info": {
   "codemirror_mode": {
    "name": "ipython",
    "version": 3
   },
   "file_extension": ".py",
   "mimetype": "text/x-python",
   "name": "python",
   "nbconvert_exporter": "python",
   "pygments_lexer": "ipython3",
   "version": "3.8.10"
  }
 },
 "nbformat": 4,
 "nbformat_minor": 5
}
